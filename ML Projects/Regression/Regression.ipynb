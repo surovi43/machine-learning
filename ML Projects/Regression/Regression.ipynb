{
 "cells": [
  {
   "cell_type": "code",
   "execution_count": 1,
   "metadata": {},
   "outputs": [],
   "source": [
    "import pandas as pd\n",
    "import seaborn as sns\n",
    "import warnings\n",
    "from matplotlib import pyplot as plt\n",
    "from sklearn.model_selection import train_test_split as tts\n",
    "from sklearn.linear_model import LinearRegression\n",
    "from sklearn.neighbors import KNeighborsRegressor\n",
    "from sklearn.tree import DecisionTreeRegressor\n",
    "from sklearn.ensemble import RandomForestRegressor\n",
    "from sklearn.svm import SVR\n",
    "from sklearn.model_selection import KFold, cross_validate\n",
    "from sklearn.metrics import mean_absolute_error, mean_squared_error\n",
    "warnings.filterwarnings(\"ignore\")"
   ]
  },
  {
   "attachments": {},
   "cell_type": "markdown",
   "metadata": {},
   "source": [
    "# Creating DataFrame"
   ]
  },
  {
   "cell_type": "code",
   "execution_count": 2,
   "metadata": {},
   "outputs": [
    {
     "data": {
      "text/html": [
       "<div>\n",
       "<style scoped>\n",
       "    .dataframe tbody tr th:only-of-type {\n",
       "        vertical-align: middle;\n",
       "    }\n",
       "\n",
       "    .dataframe tbody tr th {\n",
       "        vertical-align: top;\n",
       "    }\n",
       "\n",
       "    .dataframe thead th {\n",
       "        text-align: right;\n",
       "    }\n",
       "</style>\n",
       "<table border=\"1\" class=\"dataframe\">\n",
       "  <thead>\n",
       "    <tr style=\"text-align: right;\">\n",
       "      <th></th>\n",
       "      <th>laptop_ID</th>\n",
       "      <th>Company</th>\n",
       "      <th>Product</th>\n",
       "      <th>TypeName</th>\n",
       "      <th>Inches</th>\n",
       "      <th>ScreenResolution</th>\n",
       "      <th>Cpu</th>\n",
       "      <th>Ram</th>\n",
       "      <th>Memory</th>\n",
       "      <th>Gpu</th>\n",
       "      <th>OpSys</th>\n",
       "      <th>Weight</th>\n",
       "      <th>Price_euros</th>\n",
       "    </tr>\n",
       "  </thead>\n",
       "  <tbody>\n",
       "    <tr>\n",
       "      <th>0</th>\n",
       "      <td>1</td>\n",
       "      <td>Apple</td>\n",
       "      <td>MacBook Pro</td>\n",
       "      <td>Ultrabook</td>\n",
       "      <td>13.3</td>\n",
       "      <td>IPS Panel Retina Display 2560x1600</td>\n",
       "      <td>Intel Core i5 2.3GHz</td>\n",
       "      <td>8GB</td>\n",
       "      <td>128GB SSD</td>\n",
       "      <td>Intel Iris Plus Graphics 640</td>\n",
       "      <td>macOS</td>\n",
       "      <td>1.37kg</td>\n",
       "      <td>1339.69</td>\n",
       "    </tr>\n",
       "    <tr>\n",
       "      <th>1</th>\n",
       "      <td>2</td>\n",
       "      <td>Apple</td>\n",
       "      <td>Macbook Air</td>\n",
       "      <td>Ultrabook</td>\n",
       "      <td>13.3</td>\n",
       "      <td>1440x900</td>\n",
       "      <td>Intel Core i5 1.8GHz</td>\n",
       "      <td>8GB</td>\n",
       "      <td>128GB Flash Storage</td>\n",
       "      <td>Intel HD Graphics 6000</td>\n",
       "      <td>macOS</td>\n",
       "      <td>1.34kg</td>\n",
       "      <td>898.94</td>\n",
       "    </tr>\n",
       "    <tr>\n",
       "      <th>2</th>\n",
       "      <td>3</td>\n",
       "      <td>HP</td>\n",
       "      <td>250 G6</td>\n",
       "      <td>Notebook</td>\n",
       "      <td>15.6</td>\n",
       "      <td>Full HD 1920x1080</td>\n",
       "      <td>Intel Core i5 7200U 2.5GHz</td>\n",
       "      <td>8GB</td>\n",
       "      <td>256GB SSD</td>\n",
       "      <td>Intel HD Graphics 620</td>\n",
       "      <td>No OS</td>\n",
       "      <td>1.86kg</td>\n",
       "      <td>575.00</td>\n",
       "    </tr>\n",
       "    <tr>\n",
       "      <th>3</th>\n",
       "      <td>4</td>\n",
       "      <td>Apple</td>\n",
       "      <td>MacBook Pro</td>\n",
       "      <td>Ultrabook</td>\n",
       "      <td>15.4</td>\n",
       "      <td>IPS Panel Retina Display 2880x1800</td>\n",
       "      <td>Intel Core i7 2.7GHz</td>\n",
       "      <td>16GB</td>\n",
       "      <td>512GB SSD</td>\n",
       "      <td>AMD Radeon Pro 455</td>\n",
       "      <td>macOS</td>\n",
       "      <td>1.83kg</td>\n",
       "      <td>2537.45</td>\n",
       "    </tr>\n",
       "    <tr>\n",
       "      <th>4</th>\n",
       "      <td>5</td>\n",
       "      <td>Apple</td>\n",
       "      <td>MacBook Pro</td>\n",
       "      <td>Ultrabook</td>\n",
       "      <td>13.3</td>\n",
       "      <td>IPS Panel Retina Display 2560x1600</td>\n",
       "      <td>Intel Core i5 3.1GHz</td>\n",
       "      <td>8GB</td>\n",
       "      <td>256GB SSD</td>\n",
       "      <td>Intel Iris Plus Graphics 650</td>\n",
       "      <td>macOS</td>\n",
       "      <td>1.37kg</td>\n",
       "      <td>1803.60</td>\n",
       "    </tr>\n",
       "  </tbody>\n",
       "</table>\n",
       "</div>"
      ],
      "text/plain": [
       "   laptop_ID Company      Product   TypeName  Inches  \\\n",
       "0          1   Apple  MacBook Pro  Ultrabook    13.3   \n",
       "1          2   Apple  Macbook Air  Ultrabook    13.3   \n",
       "2          3      HP       250 G6   Notebook    15.6   \n",
       "3          4   Apple  MacBook Pro  Ultrabook    15.4   \n",
       "4          5   Apple  MacBook Pro  Ultrabook    13.3   \n",
       "\n",
       "                     ScreenResolution                         Cpu   Ram  \\\n",
       "0  IPS Panel Retina Display 2560x1600        Intel Core i5 2.3GHz   8GB   \n",
       "1                            1440x900        Intel Core i5 1.8GHz   8GB   \n",
       "2                   Full HD 1920x1080  Intel Core i5 7200U 2.5GHz   8GB   \n",
       "3  IPS Panel Retina Display 2880x1800        Intel Core i7 2.7GHz  16GB   \n",
       "4  IPS Panel Retina Display 2560x1600        Intel Core i5 3.1GHz   8GB   \n",
       "\n",
       "                Memory                           Gpu  OpSys  Weight  \\\n",
       "0            128GB SSD  Intel Iris Plus Graphics 640  macOS  1.37kg   \n",
       "1  128GB Flash Storage        Intel HD Graphics 6000  macOS  1.34kg   \n",
       "2            256GB SSD         Intel HD Graphics 620  No OS  1.86kg   \n",
       "3            512GB SSD            AMD Radeon Pro 455  macOS  1.83kg   \n",
       "4            256GB SSD  Intel Iris Plus Graphics 650  macOS  1.37kg   \n",
       "\n",
       "   Price_euros  \n",
       "0      1339.69  \n",
       "1       898.94  \n",
       "2       575.00  \n",
       "3      2537.45  \n",
       "4      1803.60  "
      ]
     },
     "execution_count": 2,
     "metadata": {},
     "output_type": "execute_result"
    }
   ],
   "source": [
    "df = pd.read_csv(\"global_laptop_selling_data.csv\")\n",
    "df.head()"
   ]
  },
  {
   "cell_type": "markdown",
   "metadata": {},
   "source": [
    "## DataFrame info"
   ]
  },
  {
   "cell_type": "code",
   "execution_count": 3,
   "metadata": {},
   "outputs": [
    {
     "name": "stdout",
     "output_type": "stream",
     "text": [
      "<class 'pandas.core.frame.DataFrame'>\n",
      "RangeIndex: 1303 entries, 0 to 1302\n",
      "Data columns (total 13 columns):\n",
      " #   Column            Non-Null Count  Dtype  \n",
      "---  ------            --------------  -----  \n",
      " 0   laptop_ID         1303 non-null   int64  \n",
      " 1   Company           1303 non-null   object \n",
      " 2   Product           1303 non-null   object \n",
      " 3   TypeName          1303 non-null   object \n",
      " 4   Inches            1303 non-null   float64\n",
      " 5   ScreenResolution  1303 non-null   object \n",
      " 6   Cpu               1303 non-null   object \n",
      " 7   Ram               1303 non-null   object \n",
      " 8   Memory            1303 non-null   object \n",
      " 9   Gpu               1303 non-null   object \n",
      " 10  OpSys             1303 non-null   object \n",
      " 11  Weight            1303 non-null   object \n",
      " 12  Price_euros       1303 non-null   float64\n",
      "dtypes: float64(2), int64(1), object(10)\n",
      "memory usage: 132.5+ KB\n"
     ]
    }
   ],
   "source": [
    "df.info()"
   ]
  },
  {
   "cell_type": "markdown",
   "metadata": {},
   "source": [
    "## Categorical Columns"
   ]
  },
  {
   "cell_type": "code",
   "execution_count": 4,
   "metadata": {},
   "outputs": [],
   "source": [
    "categorical_columns = df.select_dtypes(include='object').columns"
   ]
  },
  {
   "cell_type": "code",
   "execution_count": 5,
   "metadata": {},
   "outputs": [
    {
     "data": {
      "text/plain": [
       "Index(['Company', 'Product', 'TypeName', 'ScreenResolution', 'Cpu', 'Ram',\n",
       "       'Memory', 'Gpu', 'OpSys', 'Weight'],\n",
       "      dtype='object')"
      ]
     },
     "execution_count": 5,
     "metadata": {},
     "output_type": "execute_result"
    }
   ],
   "source": [
    "categorical_columns"
   ]
  },
  {
   "cell_type": "markdown",
   "metadata": {},
   "source": [
    "## Unique Values"
   ]
  },
  {
   "cell_type": "code",
   "execution_count": 6,
   "metadata": {},
   "outputs": [
    {
     "name": "stdout",
     "output_type": "stream",
     "text": [
      "laptop_ID: [1, 2, 3, 4, 5, 6, 7, 8, 9, 10, 11, 12, 13, 14, 15, 16, 17, 18, 19, 20, 21, 22, 23, 24, 25, 26, 27, 28, 29, 30, 31, 32, 33, 34, 35, 36, 37, 38, 39, 40, 41, 42, 43, 44, 45, 46, 47, 48, 49, 50, 51, 52, 53, 54, 55, 56, 57, 58, 59, 60, 61, 62, 63, 64, 66, 67, 68, 69, 70, 71, 72, 73, 74, 75, 76, 77, 78, 79, 80, 81, 82, 83, 84, 85, 86, 87, 88, 89, 90, 91, 92, 93, 94, 95, 96, 97, 98, 99, 100, 102, 103, 104, 105, 106, 107, 108, 109, 110, 111, 112, 113, 114, 115, 116, 117, 118, 119, 120, 121, 122, 123, 124, 125, 126, 127, 128, 129, 130, 131, 132, 133, 134, 135, 136, 137, 138, 139, 140, 141, 142, 143, 144, 145, 146, 147, 148, 149, 150, 151, 152, 153, 154, 155, 156, 157, 158, 159, 160, 161, 163, 164, 165, 166, 167, 168, 169, 170, 171, 172, 173, 174, 175, 176, 177, 178, 179, 180, 181, 182, 183, 184, 185, 186, 187, 188, 189, 190, 191, 192, 193, 194, 195, 196, 197, 198, 199, 200, 201, 202, 203, 204, 205, 206, 207, 208, 209, 210, 211, 212, 213, 215, 216, 217, 218, 219, 220, 221, 222, 223, 224, 225, 226, 227, 228, 229, 230, 231, 232, 233, 234, 235, 236, 237, 238, 239, 240, 241, 242, 243, 244, 245, 246, 247, 248, 249, 250, 251, 252, 253, 254, 255, 256, 257, 258, 259, 260, 261, 262, 263, 264, 265, 266, 267, 268, 269, 270, 271, 272, 273, 274, 275, 276, 277, 278, 279, 280, 281, 282, 283, 284, 285, 286, 287, 288, 289, 290, 291, 292, 293, 294, 295, 296, 297, 298, 299, 300, 301, 302, 303, 304, 305, 306, 307, 308, 309, 310, 311, 312, 313, 314, 315, 316, 317, 318, 319, 320, 321, 322, 323, 324, 325, 326, 327, 329, 330, 331, 332, 333, 334, 335, 336, 337, 338, 339, 340, 341, 342, 343, 344, 345, 346, 347, 348, 349, 350, 351, 352, 353, 354, 355, 356, 357, 358, 359, 360, 361, 362, 363, 364, 365, 366, 367, 368, 369, 370, 371, 372, 373, 374, 375, 376, 377, 378, 379, 380, 381, 382, 383, 384, 385, 386, 387, 388, 389, 390, 391, 392, 393, 394, 395, 396, 397, 399, 400, 401, 402, 403, 404, 405, 406, 407, 408, 409, 410, 411, 412, 413, 414, 415, 416, 417, 418, 419, 420, 421, 422, 423, 424, 425, 426, 427, 428, 429, 430, 431, 432, 433, 434, 435, 436, 437, 438, 439, 440, 441, 442, 443, 444, 445, 446, 447, 448, 449, 450, 451, 452, 453, 454, 455, 456, 457, 458, 459, 460, 461, 462, 463, 464, 465, 466, 467, 468, 469, 470, 471, 472, 473, 474, 475, 476, 477, 478, 479, 480, 481, 482, 483, 484, 485, 486, 487, 488, 489, 490, 491, 492, 493, 494, 495, 496, 497, 498, 499, 500, 501, 502, 503, 504, 505, 506, 507, 508, 509, 510, 511, 512, 513, 514, 515, 516, 517, 518, 519, 520, 521, 522, 523, 524, 525, 526, 527, 528, 529, 530, 531, 532, 533, 534, 535, 536, 537, 538, 539, 540, 541, 542, 543, 544, 545, 546, 547, 548, 549, 550, 551, 552, 553, 554, 555, 556, 557, 558, 559, 560, 561, 562, 563, 564, 565, 566, 567, 568, 569, 570, 571, 572, 573, 574, 575, 576, 577, 578, 579, 580, 581, 582, 583, 584, 585, 586, 587, 588, 589, 590, 591, 592, 593, 594, 595, 596, 597, 598, 599, 600, 601, 602, 603, 604, 605, 606, 607, 608, 609, 610, 611, 612, 613, 614, 615, 616, 617, 618, 619, 620, 621, 622, 623, 624, 625, 626, 627, 628, 629, 630, 631, 632, 633, 634, 635, 636, 637, 639, 640, 641, 642, 643, 644, 645, 646, 647, 648, 649, 650, 651, 652, 653, 654, 655, 656, 657, 658, 659, 660, 661, 662, 663, 664, 665, 666, 667, 668, 669, 670, 671, 672, 673, 674, 675, 676, 677, 678, 679, 680, 681, 682, 683, 684, 685, 686, 687, 688, 689, 690, 691, 692, 693, 694, 695, 696, 697, 698, 699, 700, 701, 702, 703, 704, 705, 706, 707, 708, 709, 710, 711, 712, 713, 714, 715, 716, 717, 718, 719, 720, 721, 722, 723, 724, 725, 726, 727, 728, 729, 730, 731, 732, 733, 734, 735, 736, 737, 738, 739, 740, 741, 742, 743, 744, 745, 746, 747, 748, 749, 750, 751, 752, 753, 754, 755, 757, 758, 759, 760, 761, 762, 763, 764, 765, 766, 767, 768, 769, 770, 771, 772, 773, 774, 775, 776, 777, 778, 779, 780, 781, 782, 783, 784, 785, 786, 787, 788, 789, 790, 791, 792, 793, 794, 795, 796, 797, 798, 799, 800, 801, 802, 803, 804, 805, 806, 807, 808, 809, 810, 811, 812, 813, 814, 815, 816, 817, 818, 819, 820, 821, 822, 823, 824, 825, 826, 827, 828, 829, 830, 831, 832, 833, 834, 835, 836, 837, 838, 839, 840, 841, 842, 843, 844, 845, 846, 847, 848, 849, 851, 852, 853, 854, 855, 856, 857, 858, 859, 860, 862, 863, 864, 865, 866, 867, 868, 869, 870, 871, 872, 873, 874, 875, 876, 877, 878, 879, 880, 881, 882, 883, 884, 885, 886, 887, 888, 889, 890, 891, 892, 893, 894, 895, 896, 897, 898, 899, 900, 901, 902, 903, 904, 905, 906, 908, 909, 910, 911, 912, 913, 914, 915, 916, 917, 918, 919, 920, 922, 923, 924, 925, 926, 927, 928, 930, 931, 932, 933, 934, 935, 936, 937, 938, 939, 940, 941, 942, 943, 944, 945, 946, 947, 948, 949, 950, 951, 952, 953, 954, 955, 956, 957, 958, 959, 960, 961, 962, 963, 964, 965, 966, 967, 968, 969, 970, 971, 972, 973, 974, 975, 976, 977, 978, 979, 980, 981, 982, 983, 984, 985, 986, 987, 988, 989, 990, 991, 992, 993, 994, 995, 996, 997, 998, 999, 1000, 1001, 1002, 1003, 1004, 1005, 1006, 1007, 1008, 1009, 1010, 1011, 1012, 1013, 1014, 1015, 1016, 1017, 1018, 1019, 1020, 1021, 1022, 1023, 1024, 1025, 1026, 1027, 1028, 1029, 1030, 1031, 1032, 1033, 1034, 1035, 1036, 1037, 1038, 1039, 1040, 1041, 1042, 1043, 1044, 1045, 1046, 1047, 1048, 1049, 1050, 1051, 1052, 1053, 1054, 1055, 1056, 1057, 1058, 1059, 1060, 1061, 1062, 1063, 1064, 1065, 1066, 1067, 1068, 1069, 1070, 1071, 1072, 1073, 1074, 1075, 1076, 1077, 1079, 1080, 1081, 1082, 1083, 1084, 1085, 1086, 1087, 1088, 1089, 1090, 1091, 1092, 1093, 1094, 1095, 1096, 1097, 1098, 1099, 1100, 1101, 1102, 1103, 1104, 1105, 1106, 1107, 1108, 1109, 1110, 1111, 1112, 1113, 1114, 1115, 1116, 1117, 1118, 1119, 1120, 1121, 1122, 1123, 1124, 1125, 1126, 1127, 1128, 1129, 1130, 1131, 1132, 1133, 1134, 1135, 1136, 1137, 1138, 1139, 1140, 1141, 1142, 1143, 1144, 1145, 1146, 1147, 1148, 1149, 1150, 1151, 1153, 1154, 1155, 1156, 1157, 1160, 1161, 1162, 1163, 1164, 1165, 1166, 1167, 1168, 1169, 1170, 1171, 1172, 1173, 1174, 1175, 1176, 1177, 1178, 1179, 1180, 1181, 1182, 1183, 1184, 1185, 1186, 1187, 1188, 1189, 1190, 1191, 1192, 1193, 1194, 1195, 1196, 1197, 1198, 1199, 1200, 1201, 1202, 1203, 1204, 1205, 1206, 1207, 1208, 1209, 1210, 1211, 1212, 1213, 1214, 1215, 1216, 1217, 1218, 1219, 1220, 1221, 1222, 1223, 1224, 1225, 1226, 1227, 1228, 1229, 1230, 1231, 1232, 1233, 1234, 1235, 1236, 1237, 1238, 1239, 1240, 1241, 1242, 1243, 1244, 1245, 1246, 1247, 1248, 1249, 1250, 1251, 1252, 1253, 1254, 1255, 1256, 1257, 1258, 1259, 1260, 1261, 1262, 1263, 1264, 1265, 1266, 1267, 1268, 1269, 1270, 1271, 1272, 1273, 1274, 1275, 1276, 1277, 1278, 1279, 1280, 1281, 1282, 1283, 1284, 1285, 1286, 1287, 1288, 1289, 1290, 1291, 1292, 1293, 1294, 1295, 1296, 1297, 1298, 1299, 1300, 1301, 1302, 1303, 1304, 1305, 1306, 1307, 1308, 1309, 1310, 1311, 1312, 1313, 1314, 1315, 1316, 1317, 1318, 1319, 1320]\n",
      "Company: ['Apple', 'HP', 'Acer', 'Asus', 'Dell', 'Lenovo', 'Chuwi', 'MSI', 'Microsoft', 'Toshiba', 'Huawei', 'Xiaomi', 'Vero', 'Razer', 'Mediacom', 'Samsung', 'Google', 'Fujitsu', 'LG']\n",
      "Product: ['MacBook Pro', 'Macbook Air', '250 G6', 'Aspire 3', 'ZenBook UX430UN', 'Swift 3', 'Inspiron 3567', 'MacBook 12\"', 'IdeaPad 320-15IKB', 'XPS 13', 'Vivobook E200HA', 'Legion Y520-15IKBN', '255 G6', 'Inspiron 5379', '15-BS101nv (i7-8550U/8GB/256GB/FHD/W10)', 'MacBook Air', 'Inspiron 5570', 'Latitude 5590', 'ProBook 470', 'LapBook 15.6\"', 'E402WA-GA010T (E2-6110/2GB/32GB/W10)', '17-ak001nv (A6-9220/4GB/500GB/Radeon', 'IdeaPad 120S-14IAP', 'Inspiron 5770', 'ProBook 450', 'X540UA-DM186 (i3-6006U/4GB/1TB/FHD/Linux)', 'Inspiron 7577', 'X542UQ-GO005 (i5-7200U/8GB/1TB/GeForce', 'Aspire A515-51G', 'Inspiron 7773', 'IdeaPad 320-15ISK', 'Rog Strix', 'X751NV-TY001T (N4200/4GB/1TB/GeForce', 'Yoga Book', 'ProBook 430', 'Inspiron 3576', '15-bs002nv (i3-6006U/4GB/128GB/FHD/W10)', 'VivoBook Max', 'GS73VR 7RG', 'X541UA-DM1897 (i3-6006U/4GB/256GB/FHD/Linux)', 'Vostro 5471', 'IdeaPad 520S-14IKB', 'UX410UA-GV350T (i5-8250U/8GB/256GB/FHD/W10)', 'ZenBook Pro', 'Stream 14-AX040wm', 'V310-15ISK (i5-7200U/4GB/1TB/FHD/W10)', 'FX753VE-GC093 (i7-7700HQ/12GB/1TB/GeForce', 'Surface Laptop', 'Inspiron 5370', 'GL72M 7RDX', 'Aspire E5-475', 'FX503VD-E4022T (i7-7700HQ/8GB/1TB/GeForce', 'IdeaPad 320-15IKBN', 'Aspire A515-51G-32MX', 'ProBook 440', 'IdeaPad 320-15AST', 'Pavilion 15-CK000nv', 'FX503VM-E4007T (i7-7700HQ/16GB/1TB', 'FX550IK-DM018T (FX-9830P/8GB/1TB/Radeon', 'Aspire 5', 'Probook 430', 'Zenbook UX430UA', 'Spin 5', 'X541UV-DM1439T (i3-7100U/6GB/256GB/GeForce', 'Omen 15-ce007nv', '15-bs017nv (i7-7500U/8GB/256GB/Radeon', '15-bw000nv (E2-9000e/4GB/500GB/Radeon', 'Envy 13-ad009n', 'Pavilion 14-BK001nv', 'Ideapad 310-15ISK', 'UX430UQ-GV209R (i7-7500U/8GB/256GB/GeForce', 'GP62M 7REX', 'Thinkpad T470', 'VivoBook S15', 'ThinkPad Yoga', 'Probook 440', 'Spectre x360', 'Inspiron 7570', 'X705UV-BX074T (i3-6006U/4GB/1TB/GeForce', 'Spin 3', 'GS63VR 7RG', 'Probook 470', 'E402WA-GA007T (E2-6110/4GB/64GB/W10', 'Inspiron 5567', 'Aspire A515-51G-37JS', '15-BS078nr (i7-7500U/8GB/1TB/W10)', 'V110-15IAP (N3350/4GB/1TB/No', 'FX753VD-GC086T (i5-7300HQ/8GB/1TB', 'Envy 13-AD007nv', 'ThinkPad E480', 'Satellite Pro', 'ZenBook UX430UA', 'EliteBook Folio', 'X541NA (N3350/4GB/1TB/FHD/W10)', 'GE72MVR 7RG', 'Aspire A315-51', 'Inspiron 5577', 'Inspiron 7567', 'V110-15IKB (i5-7200U/4GB/128GB/W10)', 'GE73VR 7RE', 'EliteBook 840', '15-BS103nv (i5-8250U/6GB/256GB/Radeon', 'Yoga 520-14IKB', 'ZenBook Flip', 'Inspiron 5579', 'X555BP-XX180T (A9-9420/4GB/1TB/Radeon', 'Aspire A517-51G', 'Aspire A315-31', 'GE63VR 7RE', 'MateBook X', '17-bs001nv (i5-7200U/6GB/2TB/Radeon', 'GT80S 6QF-074US', 'V310-15IKB (i5-7200U/8GB/1TB', 'Yoga 920-13IKB', 'Mi Notebook', 'XPS 15', 'Swift 7', 'Thinkpad Yoga', 'K147 (N3350/4GB/32GB/FHD/W10)', 'IdeaPad 320-17IKBR', 'Blade Pro', 'Omen 17-W295', 'V110-15ISK (i5-6200U/4GB/128GB/W10)', 'Aspire E5-576G', 'Legion Y720-15IKB', 'Precision 7520', 'Aspire 7', 'ROG GL703VD-GC028T', '15-bs018nq (i3-6006U/4GB/500GB/FHD/No', 'IdeaPad 320-17IKB', 'Latitude 5490', 'Portege Z30-C-16L', 'Alienware 17', 'Vivobook X541UV-DM1217T', 'K756UX-T4340T (i5-7200U/8GB/500GB', 'ZBook 15u', 'Pro P2540UA-XO0198T', '15-rb013nv (E2-9000e/4GB/500GB/W10)', 'Vostro 5468', 'Aspire R7', 'X555QG-DM242T (A10-9620P/4GB/1TB', 'ROG G703VI-E5062T', 'Nitro AN515-51', 'VivoBook Pro', 'F756UX-T4201D (i7-7500U/8GB/128GB', 'Yoga 910-13IKB', '15-bs015dx (i5-7200U/8GB/1TB/W10)', 'Rog G701VIK-BA060T', 'ROG G752VSK-GC493T', 'X505BP-BR019T (A9-9420/4GB/1TB/Radeon', 'Vostro 5370', '15-BW094nd (A6-9220/8GB/128GB/W10)', 'Envy 17-U275cl', 'GT73EVR 7RE', 'Yoga 720-15IKB', 'Vostro 3568', 'V330-15IKB (i7-8550U/8GB/256GB/FHD/W10)', 'ThinkPad X1', 'IdeaPad 320-17ISK', 'Ideapad 320-15IKBN', 'SP315-51 (i7-7500U/12GB/1TB/FHD/W10)', 'Thinkpad T570', 'Chromebook C910-C2ST', 'FX753VD-GC071T (i7-7700HQ/8GB/1TB/GeForce', '17-BS037cl (i3-6006U/8GB/1TB/W10)', 'V330-15IKB (i5-8250U/8GB/256GB/FHD/W10)', 'Aspire A715-71G', 'Precision 7720', 'IdeaPad 310-15ABR', 'ZenBook UX530UQ-PRO', 'VivoBook S14', 'Rog GL702VS-GC095T', 'GL553VE-FY082T (i7-7700HQ/8GB/1TB', 'IdeaPad 320-15IAP', 'EliteBook x360', 'IdeaPad 720S-13IKB', 'GE63VR 7RF', 'ES1-523-84K7 (A8-7410/8GB/256GB/FHD/W10)', 'VivoBook Flip', 'ThinkPad 13', 'ProBook 640', 'TravelMate B', 'Elitebook 840', 'ZenBook UX410UA-GV183T', 'Aspire E5-575', 'Elitebook 820', 'GL72M 7REX', 'UX510UX-CN269T (i7-7500U/8GB/256GB', 'V310-15ISK (i3-6006U/4GB/1TB/FHD/W10)', 'FX553VD-FY647T (i7-7700HQ/8GB/256GB/GeForce', 'Elitebook 850', 'X541NA (N3350/4GB/1TB/Linux)', 'Inspiron 3552', 'IdeaPad 320-15ABR', 'Stream 14-AX001nv', 'GP72MVR 7RFX', 'Zbook 15', 'Tecra A50-C-21G', 'Latitude 7480', 'Zenbook UX410UA-GV027T', '15-AY023na (N3710/8GB/2TB/W10)', 'Elitebook 1040', 'IdeaPad 110-17ACL', '15-bw003nv (A9-Series-9420/4GB/256GB/FHD/W10)', 'Yoga 11e', 'VivoBook E403NA', 'Omen 17-w212nv', 'V310-15ISK (i3-6006U/4GB/128GB/FHD/No', 'ROG Strix', 'IdeaPad 720S-14IKB', 'Zenbook Flip', 'Thinkpad X1', 'Ideapad 510S-13IKB', 'Precision 3510', 'Precision 5520', 'Rog GL753VD-GC042T', 'Rog GL753VE-GC070T', 'Leopard GP72M', '15-BW004nv (A9-9420/4GB/256GB/Radeon', 'ThinkPad E580', 'ThinkPad L470', 'Precision M5520', 'FX753VD-GC461T (i7-7700HQ/16GB/1TB', 'GE73VR 7RF', 'Zenbook 3', 'Portege Z30-C-16P', 'Lenovo IdeaPad', 'ThinkPad P51', 'Thinkpad T470p', '15-BS028nv (i3-6006U/4GB/1TB/Radeon', 'Latitude 3380', 'EliteBook 1040', 'LapBook 12.3', 'ProBook 650', 'X542UQ-DM117 (i3-7100U/8GB/1TB/GeForce', 'Latitude 5480', 'Omen 17-w207nv', 'FlexBook Edge', 'Chromebook 3', 'Thinkpad 13', 'IdeaPad 320s-14IKB', 'Thinkpad P51', '15-ra044nv (N3060/4GB/500GB/W10)', 'Pixelbook (Core', 'ThinkPad T470s', 'ThinkPad X270', 'Omen 15-AX205na', 'Aspire ES1-572', 'Precision 3520', 'GV62 7RD-1686NL', '15-bs024nv (i5-7200U/8GB/128GB/W10)', 'ThinkPad T470', 'Inspiron 3168', '17-BS092ND (i3-6006U/8GB/256GB/W10)', 'Pro P2540UA-AB51', 'IdeaPad 510s-14IKB', 'X541NA-PD1003Y (N4200/4GB/500GB/W10)', 'Omen 17-an006nv', 'Thinkpad T460s', 'Latitude 7390', 'Latitude E5470', 'Portege X30-D-10J', 'Lapbook 15,6', 'ThinkPad E570', 'Thinkpad X270', 'Zenbook UX390UA', 'Thinkpad E570', 'Portege X30-D-10L', 'Rog G752VL-UH71T', 'Thinkpad X260', 'Ideapad 520-15IKBR', 'ThinkPad L570', 'VivoBook E201NA', '15-BS026nv (i5-7200U/8GB/256GB/Radeon', 'IdeaPad 320-14IAP', 'Chromebook N23', 'ZenBook UX510UX-CN211T', 'Aspire A515-51G-59QF', 'Envy 13-AB002nv', 'Vostro 5568', 'VivoBook E12', '15-bs190od (i5-8250U/4GB/1TB/W10)', 'ROG Zephyrus', 'Probook 450', 'FX753VE-GC155T (i7-7700HQ/16GB/1TB', 'Spectre X360', 'Latitude 5580', 'Zenbook UX510UW-FI095T', 'SmartBook Edge', 'Omen 15-ce006nv', 'Thinkpad E470', 'Envy 13-AB020nr', 'VivoBook X540YA-XX519T', 'ThinkPad E470', 'V310-15ISK (i5-6200U/4GB/1TB/FHD/No', 'ThinkPad T570', '17-X047na (i3-6006U/8GB/1TB/W10)', 'A541NA-GO342 (N3350/4GB/500GB/Linux)', 'SmartBook 130', '15-bw007nv (A10-9620P/6GB/128GB/Radeon', 'Spin SP111-31', 'V330-15IKB (i3-7130U/4GB/128GB/FHD/W10)', 'EliteBook 1030', 'Thinkpad P71', 'FX553VD-DM627T (i5-7300HQ/8GB/1TB', 'Lifebook A557', 'ZBook 17', '14-am079na (N3710/8GB/2TB/W10)', '15-cd005nv (A9-9420/6GB/256GB/Radeon', 'V330-15IKB (i5-8250U/4GB/500GB/FHD/W10)', 'SmartBook 141', 'Tecra X40-D-10H', 'IdeaPad Y910-17ISK', 'GT73VR Titan', 'Chromebook 11', 'GT80S 6QE', 'Omen 17-AN010nv', 'Ideapad 320-15IKBR', 'TP501UA-CJ131T (i5-7200U/8GB/1TB/W10)', 'Inspiron 3179', 'Notebook Odyssey', 'V320-17ISK (i3-6006U/4GB/500GB/FHD/No', 'IdeaPad 110-15ISK', 'Latitude 5289', 'EliteBook 850', 'Aspire 1', 'Laptop MSI', 'GS63VR 7RF', 'Tecra Z50-C-144', 'IdeaPad 310-15IKB', 'Swift SF114-31-P5HY', 'Inspiron 7559', 'FX753VD-GC007T (i7-7700HQ/8GB/1TB', 'GT62VR 7RE', 'CB5-132T-C9KK (N3160/4GB/32GB/Chrome', 'LifeBook A557', 'SmartBook 140', 'Q304UA-BHI5T11 (i5-7200U/6GB/1TB/FHD/W10)', 'ZenBook 3', 'V330-15IKB (i5-8250U/4GB/256GB/FHD/W10)', 'Ideapad 320-15ISK', 'X541NA-GO414T (N3350/8GB/1TB/W10)', 'IdeaPad 100S-14IBR', '17-AK091ND (A9-9420/8GB/1TB/W10)', 'ROG GL553VE-FY022', 'Extensa EX2540', 'Portege Z30-C-16J', 'ROG G701VI', 'A715-71G-59DH (i5-7300HQ/8GB/1TB/GeForce', 'GL62M 7REX', 'Tecra A50-D-11M', 'IdeaPad Y700-15ISK', 'Latitude E7470', 'Ideapad 320-15IAP', '15-ay047nv (i3-6006U/6GB/1TB/Radeon', 'GP72VR Leopard', 'Latitude 3580', '15-bs012nv (i7-7500U/8GB/1TB/Radeon', 'Tecra Z50-D-10E', 'V310-15ISK (i5-7200U/8GB/1TB', 'Yoga 720-13IKB', 'Pavilion X360', 'GP62 7RDX', 'Chromebook X360', 'Gram 15Z975', 'Aspire VX5-591G', 'GV62M 7RD', 'L502NA-GO052T (N3350/4GB/128GB/W10)', 'Alienware 15', '17-bs000nv I3', 'Yoga 730', '17-Y002nv (A10-9600P/6GB/2TB/Radeon', 'V110-15ISK (3855U/4GB/500GB/W10)', 'Chromebook 14', 'IdeaPad 520s-14IKB', 'TravelMate B117-M', 'Chromebook Flip', 'Portege Z30T-C-133', '15-bs011nv (i7-7500U/4GB/500GB/Radeon', 'V310-15IKB (i5-7200U/4GB/1TB/FHD/W10)', 'V310-15ISK (i3-6006U/4GB/500GB/No', 'ThinkPad P51s', 'Thinkpad T460p', '17-ak002nv (A10-9620P/6GB/2TB/Radeon', '110-15ACL (A6-7310/4GB/500GB/W10)', 'Smartbook 142', 'V310-15IKB (i5-7200U/4GB/1TB/No', 'Inspiron 5378', '15-BW037na (A9-9420/4GB/1TB/Radeon', 'Predator 17', '15-BW091ND (A9-9420/6GB/1TB', 'Extensa EX2540-58KR', 'V310-15IKB (i7-7500U/4GB/1TB/FHD/W10)', 'ZBook 15', 'Inspiron 7560', 'Tecra X40-D-10G', 'Flex 5', 'Thinkpad P51s', 'Notebook 9', 'Zbook 17', 'N23 (N3060/4GB/128GB/W10)', 'X550VX-XX015D (i5-6300HQ/4GB/1TB/GeForce', 'Thinkpad T460', 'Pro P2540UA-XO0192R', 'Yoga 900-13ISK', '15-cb003na (i5-7300HQ/8GB/1TB', 'Latitude 7280', 'Zenbook UX330UA-AH5Q', 'TravelMate P238-M', 'X751NV-TY001 (N4200/4GB/1TB/GeForce', 'Tecra A40-C-1E5', 'EliteBook 820', 'Q524UQ-BHI7T15 (i7-7500U/12GB/2TB/GeForce', 'Thinkpad P50', 'Vivobook Max', 'Rog G752VS-BA171T', 'Tecra Z40-C-161', 'IdeaPad 110-15IBR', 'GS43VR 7RE', 'GL62M (i5-7300HQ/8GB/1TB', 'Predator G9-793', 'FX502VM-DM560T (i7-7700HQ/8GB/1TB', 'K146 (N3350/4GB/32GB/W10)', 'Yoga 510-15IKB', 'R417NA-RS01 (N3350/4GB/32GB/W10)', 'Pro P2540UA-XS51', 'Latitude 3180', '15-ba043na (A12-9700P/8GB/2TB/W10)', 'Omen 17-an012dx', 'Thinkpad T470s', 'Blade Stealth', 'Latitude 3480', 'V110-15ISK (i3-6006U/4GB/500GB/W10)', 'Tecra X40-D-10Z', 'GL62M 7RD', 'Rog GL702VS-BA023T', 'N42-20 Chromebook', 'R558UA-DM966T (i5-7200U/8GB/128GB/FHD/W10)', 'Rog GL702VM-GC017T', 'ZenBook UX310UQ-GL026T', 'Rog GL502VM-DS74', 'Inspiron 5767', 'ThinkPad T470p', 'K556UR-DM621T (i7-7500U/8GB/256GB/GeForce', 'X541NA (N4200/4GB/1TB/W10)', 'Inspiron 5368', 'Portege X30-D-10X', 'Portégé Z30-C-188', 'TMX349-G2-M-50FS (i5-7200U/8GB/256GB/FHD/W10)', 'Tecra A50-D-11D', 'X541NA-GO121 (N4200/4GB/1TB/Linux)', 'Pavilion x360', 'VivoBook L402NA', 'IdeaPad 510-15ISK', 'Rog GL753VD-GC082T', 'Chromebook C731-C78G', 'Probook 640', 'Envy x360', 'GS73VR Stealth', 'Portege X30-D-10V', 'G701VO-IH74K (i7-6820HK/32GB/2x', 'Gram 15Z970', 'Chromebook CB5-571-C1DZ', 'Gram 14Z970', 'Elitebook Folio', 'IdeaPad 510-15IKB', 'GE72VR 6RF', 'Envy 13-AB077cl', 'Tecra Z50-C-140', 'Probook 650', 'Tecra Z40-C-12X', 'GP62M Leopard', 'Omen 17-W006na', 'X751SV-TY001T (N3710/4GB/1TB/GeForce', 'TravelMate P259-G2', 'Tecra A50-C-1ZV', 'Yoga 700-11ISK', 'IdeaPad Y700-15ACZ', 'Insprion 5767', 'ZBook Studio', 'Portege Z30-C-1CW', 'ProBook x360', 'Chromebook C738T-C2EJ', 'Portege Z30-C-16Z', 'Aspire F5-573G-510L', 'Portege X20W-D-10V', 'Tecra A40-C-1DF', 'ThinkPad T460', 'Q534UX-BHI7T19 (i7-7500U/16GB/2TB', '15-bs053od (i7-7500U/6GB/1TB/W10)', 'Rog GL753VE-DS74', 'Inspiron 7579', 'Portege Z30-C-1CV', 'LifeBook A556', 'Tecra A40-C-1KF', '15-bs005nv (i3-6006U/4GB/1TB', 'V110-15IAP (N3350/4GB/128GB/No', 'ThinkPad T560', 'ZenBook UX310UA-FB485T', 'Spectre 13-V111dx', 'Aspire ES1-533', 'Rog GL553VE-DS74', 'Nitro 5', 'ENVY -', 'Portege Z30-C-16H', 'Portege A30-C-1CZ', 'ThinkPad P70', 'Tecra Z40-C-12Z', 'Inspiron 5568', 'Portégé Z30-C-16K', 'Spectre 13-V100nv', 'Latitude E5570', 'Tecra Z40-C-136', 'Yoga 500-15ISK', 'V142 (X5-Z8350/2GB/32GB/W10)', 'Tecra A50-C-218', 'Thinkpad L560', 'GT72S Dominator', 'IdeaPad Y900-17ISK', 'Chromebook C202SA', 'Noteb Pav', 'Inspiron 5578', '250 G5', 'Aspire ES1-523', 'Inspiron 7378', 'GT62VR 6RD', 'Rog G752VL-GC088D', 'GS63VR 6RF', 'ROG G701VO', 'Latitude 3570', 'IdeaPad 300-17ISK', 'Ideapad 700-15ISK', 'GT72VR Dominator', 'V110-15ISK (i5-6200U/4GB/500GB/W10)', 'Yoga 900S-12ISK', 'Chromebook 13', 'Rog GL702VM-GC354T', 'Aspire F5-573G', 'GS70 Stealth', 'G752VY-GC162T (i7-6700HQ/16GB/1TB', 'Latitude E5270', 'Chromebook 15', 'GE72 Apache', '15-bw011nv (A6-9220/4GB/1TB/FHD/W10)', 'Rog GL552VW-CN470T', 'Vostro 3559', 'V110-15ISK (i3-6006U/4GB/128GB/W10)', 'Spectre Pro', 'Portege X30-D-10K', 'Rog GL752VW-T4308T', 'V131 (X5-Z8350/4GB/32GB/FHD/W10)', 'Omen -', '15-bs078cl (i7-7500U/8GB/2TB/W10)', 'ThinkPad P40', 'L403NA-GA013TS (N3350/4GB/32GB/W10)', 'IdeaPad 500-15ISK', 'GP62M 7RDX', 'V110-15ISK (i3-6006U/4GB/1TB/No', '15-BA015wm (E2-7110/4GB/500GB/W10)', 'B51-80 (i5-6200U/8GB/1TB/Radeon', '15-bw002nv (A6-9220/4GB/256GB/Radeon', 'GP72M 7REX', 'ThinkPad T460s', 'B51-80 (i5-6200U/8GB/1008GB/Radeon', 'GS40 Phantom', 'Pavilion 15-cb003nv', 'IdeaPad 310-15ISK', '250 G4', '320-15ISK (i3-6006U/4GB/1TB/GeForce', 'Stream 14-AX000nv', 'PL60 7RD', 'X553SA-XX021T (N3050/4GB/500GB/W10)', 'V110-15ISK (i5-6200U/4GB/500GB/No', 'UX410UA-GV097T (i3-7100U/4GB/256GB/FHD/W10)', 'B51-80 (i7-6500U/4GB/1008GB/FHD/W7)', 'GS60 Ghost', 'Pavilion 15-BC000nv', 'Rog GL552VW-DM201T', 'Chromebook Plus', 'Pavilion Power', 'V110-15ISK (i3-6006U/4GB/1TB/Radeon', 'Rog G752VY-GC229T', 'GS73VR 7RF', 'FX502VM-DM105T (i7-6700HQ/8GB/1TB/GeForce', '15-bs025nv (i5-7200U/8GB/256GB/W10)', 'Aspire E5-774G', 'FX502VM-AS73 (i7-7700HQ/16GB/1TB', 'C740-C9QX (3205U/2GB/32GB/Chrome', 'E5 774G', 'SP714-51 (i7-7Y75/8GB/256GB/FHD/W10)', 'Thinkpad T560', 'GP62MVR 6RF', '15-bw009nv (A12-9720P/6GB/1TB/Radeon', 'Latitude E7270', 'X540SA-RBPDN09 (N3710/4GB/1TB/W10)', 'GL62M 7RDX', 'GE72VR Apache', '15-bs023nv (i3-6006U/4GB/1TB/FHD/W10)', 'GL62 6QF', 'ZenBook UX310UA-WB71', 'Inspiron 7779', 'Rog GL553VE-FY052T', 'Rog GL502VS', 'V510-15IKB (i5-7200U/8GB/256GB/FHD/No', 'ThinkPad L460', 'X541NA-GO020T (N3350/4GB/1TB/W10)', 'Rog G752VT-GC073T', 'B51-80 (i7-6500U/8GB/1008GB/Radeon', 'GE62 Apache', 'Yoga 500-14IBD', 'ZenBook UX305CA-UBM1', 'Aspire ES1-531', 'Pavilion 15-AW003nv', 'Stream 11-Y000na', 'X556UJ-XO044T (i7-6500U/4GB/500GB/GeForce', 'Yoga 500-14ISK', '15-AC110nv (i7-6500U/6GB/1TB/Radeon', 'X553SA-XX031T (N3050/4GB/500GB/W10)']\n",
      "TypeName: ['Ultrabook', 'Notebook', 'Netbook', 'Gaming', '2 in 1 Convertible', 'Workstation']\n",
      "Inches: [13.3, 15.6, 15.4, 14.0, 12.0, 11.6, 17.3, 10.1, 13.5, 12.5, 13.0, 18.4, 13.9, 12.3, 17.0, 15.0, 14.1, 11.3]\n",
      "ScreenResolution: ['IPS Panel Retina Display 2560x1600', '1440x900', 'Full HD 1920x1080', 'IPS Panel Retina Display 2880x1800', '1366x768', 'IPS Panel Full HD 1920x1080', 'IPS Panel Retina Display 2304x1440', 'IPS Panel Full HD / Touchscreen 1920x1080', 'Full HD / Touchscreen 1920x1080', 'Touchscreen / Quad HD+ 3200x1800', 'IPS Panel Touchscreen 1920x1200', 'Touchscreen 2256x1504', 'Quad HD+ / Touchscreen 3200x1800', 'IPS Panel 1366x768', 'IPS Panel 4K Ultra HD / Touchscreen 3840x2160', 'IPS Panel Full HD 2160x1440', '4K Ultra HD / Touchscreen 3840x2160', 'Touchscreen 2560x1440', '1600x900', 'IPS Panel 4K Ultra HD 3840x2160', '4K Ultra HD 3840x2160', 'Touchscreen 1366x768', 'IPS Panel Full HD 1366x768', 'IPS Panel 2560x1440', 'IPS Panel Full HD 2560x1440', 'IPS Panel Retina Display 2736x1824', 'Touchscreen 2400x1600', '2560x1440', 'IPS Panel Quad HD+ 2560x1440', 'IPS Panel Quad HD+ 3200x1800', 'IPS Panel Quad HD+ / Touchscreen 3200x1800', 'IPS Panel Touchscreen 1366x768', '1920x1080', 'IPS Panel Full HD 1920x1200', 'IPS Panel Touchscreen / 4K Ultra HD 3840x2160', 'IPS Panel Touchscreen 2560x1440', 'Touchscreen / Full HD 1920x1080', 'Quad HD+ 3200x1800', 'Touchscreen / 4K Ultra HD 3840x2160', 'IPS Panel Touchscreen 2400x1600']\n",
      "Cpu: ['Intel Core i5 2.3GHz', 'Intel Core i5 1.8GHz', 'Intel Core i5 7200U 2.5GHz', 'Intel Core i7 2.7GHz', 'Intel Core i5 3.1GHz', 'AMD A9-Series 9420 3GHz', 'Intel Core i7 2.2GHz', 'Intel Core i7 8550U 1.8GHz', 'Intel Core i5 8250U 1.6GHz', 'Intel Core i3 6006U 2GHz', 'Intel Core i7 2.8GHz', 'Intel Core M m3 1.2GHz', 'Intel Core i7 7500U 2.7GHz', 'Intel Core i7 2.9GHz', 'Intel Core i3 7100U 2.4GHz', 'Intel Atom x5-Z8350 1.44GHz', 'Intel Core i5 7300HQ 2.5GHz', 'AMD E-Series E2-9000e 1.5GHz', 'Intel Core i5 1.6GHz', 'Intel Core i7 8650U 1.9GHz', 'Intel Atom x5-Z8300 1.44GHz', 'AMD E-Series E2-6110 1.5GHz', 'AMD A6-Series 9220 2.5GHz', 'Intel Celeron Dual Core N3350 1.1GHz', 'Intel Core i3 7130U 2.7GHz', 'Intel Core i7 7700HQ 2.8GHz', 'Intel Core i5 2.0GHz', 'AMD Ryzen 1700 3GHz', 'Intel Pentium Quad Core N4200 1.1GHz', 'Intel Atom x5-Z8550 1.44GHz', 'Intel Celeron Dual Core N3060 1.6GHz', 'Intel Core i5 1.3GHz', 'AMD FX 9830P 3GHz', 'Intel Core i7 7560U 2.4GHz', 'AMD E-Series 6110 1.5GHz', 'Intel Core i5 6200U 2.3GHz', 'Intel Core M 6Y75 1.2GHz', 'Intel Core i5 7500U 2.7GHz', 'Intel Core i3 6006U 2.2GHz', 'AMD A6-Series 9220 2.9GHz', 'Intel Core i7 6920HQ 2.9GHz', 'Intel Core i5 7Y54 1.2GHz', 'Intel Core i7 7820HK 2.9GHz', 'Intel Xeon E3-1505M V6 3GHz', 'Intel Core i7 6500U 2.5GHz', 'AMD E-Series 9000e 1.5GHz', 'AMD A10-Series A10-9620P 2.5GHz', 'AMD A6-Series A6-9220 2.5GHz', 'Intel Core i5 2.9GHz', 'Intel Core i7 6600U 2.6GHz', 'Intel Core i3 6006U 2.0GHz', 'Intel Celeron Dual Core 3205U 1.5GHz', 'Intel Core i7 7820HQ 2.9GHz', 'AMD A10-Series 9600P 2.4GHz', 'Intel Core i7 7600U 2.8GHz', 'AMD A8-Series 7410 2.2GHz', 'Intel Celeron Dual Core 3855U 1.6GHz', 'Intel Pentium Quad Core N3710 1.6GHz', 'AMD A12-Series 9720P 2.7GHz', 'Intel Core i5 7300U 2.6GHz', 'AMD A12-Series 9720P 3.6GHz', 'Intel Celeron Quad Core N3450 1.1GHz', 'Intel Celeron Dual Core N3060 1.60GHz', 'Intel Core i5 6440HQ 2.6GHz', 'Intel Core i7 6820HQ 2.7GHz', 'AMD Ryzen 1600 3.2GHz', 'Intel Core i7 7Y75 1.3GHz', 'Intel Core i5 7440HQ 2.8GHz', 'Intel Core i7 7660U 2.5GHz', 'Intel Core i7 7700HQ 2.7GHz', 'Intel Core M m3-7Y30 2.2GHz', 'Intel Core i5 7Y57 1.2GHz', 'Intel Core i7 6700HQ 2.6GHz', 'Intel Core i3 6100U 2.3GHz', 'AMD A10-Series 9620P 2.5GHz', 'AMD E-Series 7110 1.8GHz', 'Intel Celeron Dual Core N3350 2.0GHz', 'AMD A9-Series A9-9420 3GHz', 'Intel Core i7 6820HK 2.7GHz', 'Intel Core M 7Y30 1.0GHz', 'Intel Xeon E3-1535M v6 3.1GHz', 'Intel Celeron Quad Core N3160 1.6GHz', 'Intel Core i5 6300U 2.4GHz', 'Intel Core i3 6100U 2.1GHz', 'AMD E-Series E2-9000 2.2GHz', 'Intel Celeron Dual Core N3050 1.6GHz', 'Intel Core M M3-6Y30 0.9GHz', 'AMD A9-Series 9420 2.9GHz', 'Intel Core i5 6300HQ 2.3GHz', 'AMD A6-Series 7310 2GHz', 'Intel Atom Z8350 1.92GHz', 'Intel Xeon E3-1535M v5 2.9GHz', 'Intel Core i5 6260U 1.8GHz', 'Intel Pentium Dual Core N4200 1.1GHz', 'Intel Celeron Quad Core N3710 1.6GHz', 'Intel Core M 1.2GHz', 'AMD A12-Series 9700P 2.5GHz', 'Intel Core i7 7500U 2.5GHz', 'Intel Pentium Dual Core 4405U 2.1GHz', 'AMD A4-Series 7210 2.2GHz', 'Intel Core i7 6560U 2.2GHz', 'Intel Core M m7-6Y75 1.2GHz', 'AMD FX 8800P 2.1GHz', 'Intel Core M M7-6Y75 1.2GHz', 'Intel Core i5 7200U 2.50GHz', 'Intel Core i5 7200U 2.70GHz', 'Intel Atom X5-Z8350 1.44GHz', 'Intel Core i5 7200U 2.7GHz', 'Intel Core M 1.1GHz', 'Intel Pentium Dual Core 4405Y 1.5GHz', 'Intel Pentium Quad Core N3700 1.6GHz', 'Intel Core M 6Y54 1.1GHz', 'Intel Core i7 6500U 2.50GHz', 'Intel Celeron Dual Core N3350 2GHz', 'Samsung Cortex A72&A53 2.0GHz', 'AMD E-Series 9000 2.2GHz', 'Intel Core M 6Y30 0.9GHz', 'AMD A9-Series 9410 2.9GHz']\n",
      "Ram: ['8GB', '16GB', '4GB', '2GB', '12GB', '6GB', '32GB', '24GB', '64GB']\n",
      "Memory: ['128GB SSD', '128GB Flash Storage', '256GB SSD', '512GB SSD', '500GB HDD', '256GB Flash Storage', '1TB HDD', '32GB Flash Storage', '128GB SSD +  1TB HDD', '256GB SSD +  256GB SSD', '64GB Flash Storage', '256GB SSD +  1TB HDD', '256GB SSD +  2TB HDD', '32GB SSD', '2TB HDD', '64GB SSD', '1.0TB Hybrid', '512GB SSD +  1TB HDD', '1TB SSD', '256GB SSD +  500GB HDD', '128GB SSD +  2TB HDD', '512GB SSD +  512GB SSD', '16GB SSD', '16GB Flash Storage', '512GB SSD +  256GB SSD', '512GB SSD +  2TB HDD', '64GB Flash Storage +  1TB HDD', '180GB SSD', '1TB HDD +  1TB HDD', '32GB HDD', '1TB SSD +  1TB HDD', '512GB Flash Storage', '128GB HDD', '240GB SSD', '8GB SSD', '508GB Hybrid', '1.0TB HDD', '512GB SSD +  1.0TB Hybrid', '256GB SSD +  1.0TB Hybrid']\n",
      "Gpu: ['Intel Iris Plus Graphics 640', 'Intel HD Graphics 6000', 'Intel HD Graphics 620', 'AMD Radeon Pro 455', 'Intel Iris Plus Graphics 650', 'AMD Radeon R5', 'Intel Iris Pro Graphics', 'Nvidia GeForce MX150', 'Intel UHD Graphics 620', 'Intel HD Graphics 520', 'AMD Radeon Pro 555', 'AMD Radeon R5 M430', 'Intel HD Graphics 615', 'AMD Radeon Pro 560', 'Nvidia GeForce 940MX', 'Intel HD Graphics 400', 'Nvidia GeForce GTX 1050', 'AMD Radeon R2', 'AMD Radeon 530', 'Nvidia GeForce 930MX', 'Intel HD Graphics', 'Intel HD Graphics 500', 'Nvidia GeForce GTX 1060', 'Nvidia GeForce 150MX', 'Intel Iris Graphics 540', 'AMD Radeon RX 580', 'Nvidia GeForce 920MX', 'AMD Radeon R4 Graphics', 'AMD Radeon 520', 'Nvidia GeForce GTX 1070', 'Nvidia GeForce GTX 1050 Ti', 'Nvidia GeForce MX130', 'AMD R4 Graphics', 'Nvidia GeForce GTX 940MX', 'AMD Radeon RX 560', 'Nvidia GeForce 920M', 'AMD Radeon R7 M445', 'AMD Radeon RX 550', 'Nvidia GeForce GTX 1050M', 'Intel HD Graphics 515', 'AMD Radeon R5 M420', 'Intel HD Graphics 505', 'Nvidia GTX 980 SLI', 'AMD R17M-M1-70', 'Nvidia GeForce GTX 1080', 'Nvidia Quadro M1200', 'Nvidia GeForce GTX 950M', 'AMD FirePro W4190M', 'Nvidia GeForce GTX 980M', 'Intel Iris Graphics 550', 'Nvidia GeForce 930M', 'Intel HD Graphics 630', 'AMD Radeon R5 430', 'Nvidia GeForce GTX 940M', 'Intel HD Graphics 510', 'Intel HD Graphics 405', 'AMD Radeon RX 540', 'Nvidia GeForce GT 940MX', 'AMD FirePro W5130M', 'Nvidia Quadro M2200M', 'AMD Radeon R4', 'Nvidia Quadro M620', 'AMD Radeon R7 M460', 'Intel HD Graphics 530', 'Nvidia GeForce GTX 965M', 'Nvidia GeForce GTX1080', 'Nvidia GeForce GTX1050 Ti', 'Nvidia GeForce GTX 960M', 'AMD Radeon R2 Graphics', 'Nvidia Quadro M620M', 'Nvidia GeForce GTX 970M', 'Nvidia GeForce GTX 960<U+039C>', 'Intel Graphics 620', 'Nvidia GeForce GTX 960', 'AMD Radeon R5 520', 'AMD Radeon R7 M440', 'AMD Radeon R7', 'Nvidia Quadro M520M', 'Nvidia Quadro M2200', 'Nvidia Quadro M2000M', 'Intel HD Graphics 540', 'Nvidia Quadro M1000M', 'AMD Radeon 540', 'Nvidia GeForce GTX 1070M', 'Nvidia GeForce GTX1060', 'Intel HD Graphics 5300', 'AMD Radeon R5 M420X', 'AMD Radeon R7 Graphics', 'Nvidia GeForce 920', 'Nvidia GeForce 940M', 'Nvidia GeForce GTX 930MX', 'AMD Radeon R7 M465', 'AMD Radeon R3', 'Nvidia GeForce GTX 1050Ti', 'AMD Radeon R7 M365X', 'AMD Radeon R9 M385', 'Nvidia Quadro 3000M', 'Nvidia GeForce GTX 980', 'AMD Radeon R5 M330', 'AMD FirePro W6150M', 'AMD Radeon R5 M315', 'Nvidia Quadro M500M', 'AMD Radeon R7 M360', 'Nvidia Quadro M3000M', 'Nvidia GeForce 960M', 'ARM Mali T860 MP4']\n",
      "OpSys: ['macOS', 'No OS', 'Windows 10', 'Mac OS X', 'Linux', 'Android', 'Windows 10 S', 'Chrome OS', 'Windows 7']\n",
      "Weight: ['1.37kg', '1.34kg', '1.86kg', '1.83kg', '2.1kg', '2.04kg', '1.3kg', '1.6kg', '2.2kg', '0.92kg', '1.22kg', '0.98kg', '2.5kg', '1.62kg', '1.91kg', '2.3kg', '1.35kg', '1.88kg', '1.89kg', '1.65kg', '2.71kg', '1.2kg', '1.44kg', '2.8kg', '2kg', '2.65kg', '2.77kg', '3.2kg', '0.69kg', '1.49kg', '2.4kg', '2.13kg', '2.43kg', '1.7kg', '1.4kg', '1.8kg', '1.9kg', '3kg', '1.252kg', '2.7kg', '2.02kg', '1.63kg', '1.96kg', '1.21kg', '2.45kg', '1.25kg', '1.5kg', '2.62kg', '1.38kg', '1.58kg', '1.85kg', '1.23kg', '1.26kg', '2.16kg', '2.36kg', '2.05kg', '1.32kg', '1.75kg', '0.97kg', '2.9kg', '2.56kg', '1.48kg', '1.74kg', '1.1kg', '1.56kg', '2.03kg', '1.05kg', '4.4kg', '1.90kg', '1.29kg', '2.0kg', '1.95kg', '2.06kg', '1.12kg', '1.42kg', '3.49kg', '3.35kg', '2.23kg', '4.42kg', '2.69kg', '2.37kg', '4.7kg', '3.6kg', '2.08kg', '4.3kg', '1.68kg', '1.41kg', '4.14kg', '2.18kg', '2.24kg', '2.67kg', '2.14kg', '1.36kg', '2.25kg', '2.15kg', '2.19kg', '2.54kg', '3.42kg', '1.28kg', '2.33kg', '1.45kg', '2.79kg', '1.84kg', '2.6kg', '2.26kg', '3.25kg', '1.59kg', '1.13kg', '1.78kg', '1.10kg', '1.15kg', '1.27kg', '1.43kg', '2.31kg', '1.16kg', '1.64kg', '2.17kg', '1.47kg', '3.78kg', '1.79kg', '0.91kg', '1.99kg', '4.33kg', '1.93kg', '1.87kg', '2.63kg', '3.4kg', '3.14kg', '1.94kg', '1.24kg', '4.6kg', '4.5kg', '2.73kg', '1.39kg', '2.29kg', '2.59kg', '2.94kg', '1.14kg', '3.8kg', '3.31kg', '1.09kg', '3.21kg', '1.19kg', '1.98kg', '1.17kg', '4.36kg', '1.71kg', '2.32kg', '4.2kg', '1.55kg', '0.81kg', '1.18kg', '2.72kg', '1.31kg', '0.920kg', '3.74kg', '1.76kg', '1.54kg', '2.83kg', '2.07kg', '2.38kg', '3.58kg', '1.08kg', '2.20kg', '2.75kg', '1.70kg', '2.99kg', '1.11kg', '2.09kg', '4kg', '3.0kg', '0.99kg', '3.52kg', '2.591kg', '2.21kg', '3.3kg', '2.191kg', '2.34kg', '4.0kg']\n",
      "Price_euros: [1339.69, 898.94, 575.0, 2537.45, 1803.6, 400.0, 2139.97, 1158.7, 1495.0, 770.0, 393.9, 344.99, 2439.97, 498.9, 1262.4, 1518.55, 745.0, 2858.0, 499.0, 979.0, 191.9, 999.0, 258.0, 819.0, 659.0, 418.64, 1099.0, 800.0, 1298.0, 896.0, 244.99, 199.0, 439.0, 1869.0, 998.0, 249.0, 367.0, 488.69, 879.0, 389.0, 1499.0, 522.99, 682.0, 1419.0, 369.0, 1299.0, 639.0, 466.0, 319.0, 841.0, 398.49, 1103.0, 384.0, 767.8, 586.19, 2449.0, 415.0, 599.0, 941.0, 690.0, 1983.0, 438.69, 229.0, 549.0, 949.0, 1089.0, 955.0, 870.0, 1095.0, 519.0, 855.0, 530.0, 977.0, 1096.16, 1510.0, 860.0, 399.0, 395.0, 1349.0, 699.0, 598.99, 1449.0, 1649.0, 689.0, 1197.0, 1195.0, 1049.0, 847.0, 599.9, 485.0, 577.0, 1249.0, 719.0, 349.0, 647.0, 1119.0, 1340.0, 414.9, 1193.0, 1480.0, 1262.0, 1379.0, 1399.0, 722.0, 1629.0, 1398.99, 1084.0, 1130.33, 564.0, 1118.0, 479.0, 2241.5, 629.0, 1271.0, 451.0, 259.0, 812.0, 277.99, 1396.0, 928.0, 638.99, 449.0, 884.0, 572.0, 598.0, 988.0, 252.36, 938.0, 655.0, 1116.02, 869.0, 602.0, 2014.0, 344.0, 2029.0, 447.0, 1249.26, 899.0, 498.0, 1890.0, 1082.0, 619.0, 1315.0, 403.0, 805.0, 728.0, 1079.0, 348.0, 1799.0, 363.51, 1060.49, 854.0, 754.0, 309.0, 489.0, 923.0, 459.0, 2799.0, 813.0, 1849.0, 793.0, 1199.0, 1549.0, 2397.0, 779.0, 989.0, 1085.0, 2824.0, 260.0, 999.9, 698.0, 839.0, 914.0, 6099.0, 959.0, 1045.0, 1845.0, 493.0, 742.0, 1749.0, 3055.0, 1398.0, 1949.0, 597.0, 1407.0, 931.88, 589.0, 1031.0, 1149.0, 1279.0, 677.35, 1363.0, 794.0, 2456.34, 832.0, 859.01, 769.0, 891.0, 1269.0, 398.99, 330.0, 859.0, 390.0, 3890.0, 846.0, 1145.0, 889.0, 985.0, 559.0, 2999.0, 675.0, 2040.0, 469.0, 702.0, 445.9, 1059.0, 2499.0, 1699.0, 1142.0, 444.0, 657.0, 565.0, 799.0, 467.0, 1018.0, 880.0, 1958.9, 735.07, 713.07, 849.0, 428.0, 829.0, 579.0, 951.0, 1097.0, 1179.0, 659.01, 1187.0, 1829.0, 739.0, 2884.86, 1468.0, 509.0, 2122.0, 649.0, 1265.0, 359.99, 1975.0, 1043.0, 2099.0, 275.0, 844.0, 459.9, 980.0, 1292.0, 1094.0, 902.0, 292.0, 1049.9, 1335.0, 2639.0, 943.0, 1334.0, 1268.0, 1144.0, 274.99, 1142.75, 274.9, 716.0, 1579.0, 1129.0, 279.0, 1607.96, 375.0, 663.0, 2027.42, 1304.0, 1409.0, 1738.27, 1403.0, 970.9, 321.99, 557.37, 1427.0, 945.0, 809.0, 1750.0, 426.0, 2199.0, 869.01, 488.99, 553.0, 286.0, 1191.0, 403.5, 1655.0, 1748.9, 2282.0, 1369.0, 2135.0, 2509.0, 1039.0, 1591.0, 693.99, 778.87, 1229.56, 2712.0, 2625.0, 306.0, 1529.0, 1144.5, 2249.0, 1873.0, 1747.0, 1680.0, 409.0, 304.45, 1925.0, 1943.0, 789.01, 598.9, 1500.0, 539.95, 1215.38, 1899.0, 1159.0, 1142.4, 1999.0, 299.0, 269.0, 1010.0, 2445.0, 1695.0, 347.0, 2382.0, 749.0, 1429.0, 441.8, 1993.0, 1027.74, 2589.0, 1534.0, 1345.0, 2046.0, 639.9, 544.0, 435.0, 2090.0, 304.0, 759.0, 1858.0, 1154.0, 1275.0, 1841.85, 740.0, 2408.0, 1364.0, 1672.0, 586.6, 726.0, 248.9, 2338.0, 1798.0, 1950.0, 1011.99, 1350.0, 898.9, 911.0, 340.0, 618.99, 1599.0, 265.0, 1224.0, 613.0, 1323.0, 836.0, 1219.24, 1399.95, 245.0, 521.47, 2968.0, 1504.0, 1279.73, 585.0, 1377.0, 3012.77, 797.41, 735.87, 798.0, 705.5, 785.0, 462.35, 397.0, 1729.0, 1116.99, 2699.0, 544.15, 1280.0, 224.0, 255.0, 568.9, 617.9, 630.0, 1965.0, 990.0, 1860.99, 830.0, 685.0, 1865.0, 2663.0, 2729.0, 749.01, 1008.52, 1537.39, 295.0, 2349.0, 1498.0, 1673.0, 609.0, 1770.0, 603.0, 529.0, 2025.0, 1474.0, 1670.0, 1763.0, 1219.0, 668.48, 329.0, 465.0, 2299.0, 4899.0, 879.01, 443.9, 359.0, 1168.0, 569.0, 1389.0, 2267.86, 379.0, 1124.0, 1465.0, 776.0, 932.0, 239.0, 468.0, 639.01, 1820.0, 1900.0, 1479.0, 906.62, 1757.42, 2399.0, 1109.0, 520.9, 2450.0, 1169.0, 450.0, 274.0, 919.0, 2599.0, 1213.0, 1584.0, 709.0, 1449.9, 1191.8, 364.9, 1064.0, 1135.0, 1196.0, 3147.37, 1229.0, 419.0, 535.0, 539.0, 1486.77, 1258.0, 412.0, 1867.85, 817.95, 1034.0, 1294.0, 495.0, 997.9, 2051.0, 2813.75, 612.61, 545.67, 318.0, 1907.99, 2590.0, 973.0, 669.0, 1877.0, 429.0, 621.45, 795.0, 1855.0, 655.01, 298.0, 1426.66, 857.07, 1200.0, 1686.64, 836.6, 3659.4, 1348.48, 489.9, 589.52, 1935.0, 650.0, 960.0, 2419.0, 2094.48, 410.8, 1207.0, 665.0, 1535.0, 3299.0, 1126.71, 4389.0, 475.0, 1096.0, 849.9, 1561.0, 2868.99, 1048.0, 1859.0, 1559.0, 470.34, 1181.27, 1020.0, 1244.0, 2370.0, 636.0, 2899.0, 581.9, 3588.8, 2350.0, 1764.0, 1891.0, 1339.0, 202.9, 1970.0, 1165.0, 2330.0, 810.0, 2064.9, 744.0, 780.0, 1679.0, 2415.0, 961.0, 789.81, 385.0, 2505.02, 755.0, 1090.0, 1875.0, 1358.0, 355.0, 5499.0, 1186.0, 1650.0, 2774.63, 325.0, 590.0, 3072.89, 910.0, 713.99, 1870.0, 615.0, 1026.0, 2277.0, 865.0, 1903.0, 787.0, 2559.0, 850.66, 1285.0, 1017.0, 2240.0, 1778.0, 1055.0, 1388.0, 735.0, 1690.0, 935.0, 912.5, 1700.0, 684.8, 455.7, 1369.9, 297.0, 2649.0, 1475.0, 929.0, 900.0, 614.0, 2013.1, 2049.0, 1962.99, 1483.0, 789.0, 1205.0, 3100.0, 1018.99, 881.0, 1119.91, 684.99, 1296.99, 1825.0, 729.9, 708.06, 288.9, 1105.0, 1669.0, 558.6, 1639.0, 2758.0, 1472.2, 1775.0, 1460.0, 1488.99, 3154.0, 775.0, 1760.0, 1009.0, 1790.0, 846.5, 465.62, 825.0, 3149.0, 695.0, 1962.98, 2800.0, 1180.0, 2049.9, 1002.0, 915.0, 806.0, 1189.0, 1908.0, 270.62, 1150.0, 380.0, 2089.0, 1260.0, 547.0, 1099.99, 1049.26, 684.0, 1539.0, 1590.0, 1887.21, 1210.0, 769.99, 1490.0, 2229.0, 795.99, 1185.43, 1046.44, 1060.0, 1624.0, 1080.0, 1228.99, 1725.0, 1062.95, 1010.51, 210.8, 1425.0, 1049.6, 1000.0, 2103.34, 1469.0, 1545.64, 2289.99, 287.9, 2620.0, 2254.0, 705.15, 1819.0, 1070.0, 989.99, 1929.0, 1458.0, 3975.0, 798.01, 1329.0, 1300.0, 481.98, 1713.49, 540.0, 940.0, 3240.0, 646.27, 750.0, 1030.99, 387.0, 393.49, 345.99, 818.35, 638.8, 500.0, 1135.15, 1166.97, 209.0, 1413.1, 1511.19, 867.0, 398.0, 769.15, 1969.0, 2749.99, 1029.0, 2226.0, 1312.49, 196.0, 1513.0, 523.63, 1895.0, 2050.38, 278.0, 752.0, 616.0, 3949.4, 784.0, 2171.72, 2440.0, 1142.8, 2296.95, 1009.9, 2339.0, 339.0, 2250.68, 478.89, 1492.8, 788.49, 2041.0, 1769.0, 476.99, 1390.0, 679.0, 1305.0, 2153.37, 1637.0, 831.0, 895.01, 333.0, 909.0, 691.0, 1163.0, 1327.0, 368.0, 2150.0, 272.0, 2048.9, 2680.0, 1948.99, 174.0, 1272.0, 1476.11, 1713.37, 1477.0, 521.86, 3499.0, 469.01, 1598.0, 478.0, 2198.19, 737.0, 597.57, 361.8, 1600.0, 875.0, 2325.0, 573.0, 1813.0, 324.0, 1072.0, 443.99, 490.0, 895.0, 833.01, 729.0, 289.0, 549.99, 805.99, 720.32, 638.0, 764.0]\n"
     ]
    }
   ],
   "source": [
    "for col in df.columns:\n",
    "    print(f\"{col}: {list(df[col].unique())}\")"
   ]
  },
  {
   "cell_type": "code",
   "execution_count": 7,
   "metadata": {},
   "outputs": [],
   "source": [
    "df.drop(['laptop_ID', 'Product'], axis=1, inplace=True)\n",
    "df.rename(columns={'Price_euros': 'Price'}, inplace=True)"
   ]
  },
  {
   "cell_type": "code",
   "execution_count": 8,
   "metadata": {},
   "outputs": [
    {
     "data": {
      "text/html": [
       "<div>\n",
       "<style scoped>\n",
       "    .dataframe tbody tr th:only-of-type {\n",
       "        vertical-align: middle;\n",
       "    }\n",
       "\n",
       "    .dataframe tbody tr th {\n",
       "        vertical-align: top;\n",
       "    }\n",
       "\n",
       "    .dataframe thead th {\n",
       "        text-align: right;\n",
       "    }\n",
       "</style>\n",
       "<table border=\"1\" class=\"dataframe\">\n",
       "  <thead>\n",
       "    <tr style=\"text-align: right;\">\n",
       "      <th></th>\n",
       "      <th>Company</th>\n",
       "      <th>TypeName</th>\n",
       "      <th>Inches</th>\n",
       "      <th>ScreenResolution</th>\n",
       "      <th>Cpu</th>\n",
       "      <th>Ram</th>\n",
       "      <th>Memory</th>\n",
       "      <th>Gpu</th>\n",
       "      <th>OpSys</th>\n",
       "      <th>Weight</th>\n",
       "      <th>Price</th>\n",
       "    </tr>\n",
       "  </thead>\n",
       "  <tbody>\n",
       "    <tr>\n",
       "      <th>0</th>\n",
       "      <td>Apple</td>\n",
       "      <td>Ultrabook</td>\n",
       "      <td>13.3</td>\n",
       "      <td>IPS Panel Retina Display 2560x1600</td>\n",
       "      <td>Intel Core i5 2.3GHz</td>\n",
       "      <td>8GB</td>\n",
       "      <td>128GB SSD</td>\n",
       "      <td>Intel Iris Plus Graphics 640</td>\n",
       "      <td>macOS</td>\n",
       "      <td>1.37kg</td>\n",
       "      <td>1339.69</td>\n",
       "    </tr>\n",
       "    <tr>\n",
       "      <th>1</th>\n",
       "      <td>Apple</td>\n",
       "      <td>Ultrabook</td>\n",
       "      <td>13.3</td>\n",
       "      <td>1440x900</td>\n",
       "      <td>Intel Core i5 1.8GHz</td>\n",
       "      <td>8GB</td>\n",
       "      <td>128GB Flash Storage</td>\n",
       "      <td>Intel HD Graphics 6000</td>\n",
       "      <td>macOS</td>\n",
       "      <td>1.34kg</td>\n",
       "      <td>898.94</td>\n",
       "    </tr>\n",
       "    <tr>\n",
       "      <th>2</th>\n",
       "      <td>HP</td>\n",
       "      <td>Notebook</td>\n",
       "      <td>15.6</td>\n",
       "      <td>Full HD 1920x1080</td>\n",
       "      <td>Intel Core i5 7200U 2.5GHz</td>\n",
       "      <td>8GB</td>\n",
       "      <td>256GB SSD</td>\n",
       "      <td>Intel HD Graphics 620</td>\n",
       "      <td>No OS</td>\n",
       "      <td>1.86kg</td>\n",
       "      <td>575.00</td>\n",
       "    </tr>\n",
       "    <tr>\n",
       "      <th>3</th>\n",
       "      <td>Apple</td>\n",
       "      <td>Ultrabook</td>\n",
       "      <td>15.4</td>\n",
       "      <td>IPS Panel Retina Display 2880x1800</td>\n",
       "      <td>Intel Core i7 2.7GHz</td>\n",
       "      <td>16GB</td>\n",
       "      <td>512GB SSD</td>\n",
       "      <td>AMD Radeon Pro 455</td>\n",
       "      <td>macOS</td>\n",
       "      <td>1.83kg</td>\n",
       "      <td>2537.45</td>\n",
       "    </tr>\n",
       "    <tr>\n",
       "      <th>4</th>\n",
       "      <td>Apple</td>\n",
       "      <td>Ultrabook</td>\n",
       "      <td>13.3</td>\n",
       "      <td>IPS Panel Retina Display 2560x1600</td>\n",
       "      <td>Intel Core i5 3.1GHz</td>\n",
       "      <td>8GB</td>\n",
       "      <td>256GB SSD</td>\n",
       "      <td>Intel Iris Plus Graphics 650</td>\n",
       "      <td>macOS</td>\n",
       "      <td>1.37kg</td>\n",
       "      <td>1803.60</td>\n",
       "    </tr>\n",
       "  </tbody>\n",
       "</table>\n",
       "</div>"
      ],
      "text/plain": [
       "  Company   TypeName  Inches                    ScreenResolution  \\\n",
       "0   Apple  Ultrabook    13.3  IPS Panel Retina Display 2560x1600   \n",
       "1   Apple  Ultrabook    13.3                            1440x900   \n",
       "2      HP   Notebook    15.6                   Full HD 1920x1080   \n",
       "3   Apple  Ultrabook    15.4  IPS Panel Retina Display 2880x1800   \n",
       "4   Apple  Ultrabook    13.3  IPS Panel Retina Display 2560x1600   \n",
       "\n",
       "                          Cpu   Ram               Memory  \\\n",
       "0        Intel Core i5 2.3GHz   8GB            128GB SSD   \n",
       "1        Intel Core i5 1.8GHz   8GB  128GB Flash Storage   \n",
       "2  Intel Core i5 7200U 2.5GHz   8GB            256GB SSD   \n",
       "3        Intel Core i7 2.7GHz  16GB            512GB SSD   \n",
       "4        Intel Core i5 3.1GHz   8GB            256GB SSD   \n",
       "\n",
       "                            Gpu  OpSys  Weight    Price  \n",
       "0  Intel Iris Plus Graphics 640  macOS  1.37kg  1339.69  \n",
       "1        Intel HD Graphics 6000  macOS  1.34kg   898.94  \n",
       "2         Intel HD Graphics 620  No OS  1.86kg   575.00  \n",
       "3            AMD Radeon Pro 455  macOS  1.83kg  2537.45  \n",
       "4  Intel Iris Plus Graphics 650  macOS  1.37kg  1803.60  "
      ]
     },
     "execution_count": 8,
     "metadata": {},
     "output_type": "execute_result"
    }
   ],
   "source": [
    "df.head()"
   ]
  },
  {
   "cell_type": "markdown",
   "metadata": {},
   "source": [
    "# Data Cleaning"
   ]
  },
  {
   "attachments": {},
   "cell_type": "markdown",
   "metadata": {},
   "source": [
    "## Ram"
   ]
  },
  {
   "cell_type": "code",
   "execution_count": 9,
   "metadata": {},
   "outputs": [
    {
     "data": {
      "text/plain": [
       "array(['8GB', '16GB', '4GB', '2GB', '12GB', '6GB', '32GB', '24GB', '64GB'],\n",
       "      dtype=object)"
      ]
     },
     "execution_count": 9,
     "metadata": {},
     "output_type": "execute_result"
    }
   ],
   "source": [
    "df['Ram'].unique()"
   ]
  },
  {
   "cell_type": "code",
   "execution_count": 10,
   "metadata": {},
   "outputs": [
    {
     "data": {
      "text/plain": [
       "array([ 8, 16,  4,  2, 12,  6, 32, 24, 64])"
      ]
     },
     "execution_count": 10,
     "metadata": {},
     "output_type": "execute_result"
    }
   ],
   "source": [
    "df['Ram'] = df['Ram'].str.replace('GB', '').astype(int)\n",
    "df['Ram'].unique()"
   ]
  },
  {
   "attachments": {},
   "cell_type": "markdown",
   "metadata": {},
   "source": [
    "## Weight"
   ]
  },
  {
   "cell_type": "code",
   "execution_count": 11,
   "metadata": {},
   "outputs": [
    {
     "data": {
      "text/plain": [
       "array(['1.37kg', '1.34kg', '1.86kg', '1.83kg', '2.1kg', '2.04kg', '1.3kg',\n",
       "       '1.6kg', '2.2kg', '0.92kg', '1.22kg', '0.98kg', '2.5kg', '1.62kg',\n",
       "       '1.91kg', '2.3kg', '1.35kg', '1.88kg', '1.89kg', '1.65kg',\n",
       "       '2.71kg', '1.2kg', '1.44kg', '2.8kg', '2kg', '2.65kg', '2.77kg',\n",
       "       '3.2kg', '0.69kg', '1.49kg', '2.4kg', '2.13kg', '2.43kg', '1.7kg',\n",
       "       '1.4kg', '1.8kg', '1.9kg', '3kg', '1.252kg', '2.7kg', '2.02kg',\n",
       "       '1.63kg', '1.96kg', '1.21kg', '2.45kg', '1.25kg', '1.5kg',\n",
       "       '2.62kg', '1.38kg', '1.58kg'], dtype=object)"
      ]
     },
     "execution_count": 11,
     "metadata": {},
     "output_type": "execute_result"
    }
   ],
   "source": [
    "df['Weight'].unique()[:50]"
   ]
  },
  {
   "cell_type": "code",
   "execution_count": 12,
   "metadata": {},
   "outputs": [
    {
     "data": {
      "text/plain": [
       "array([1.37, 1.34, 1.86, 1.83])"
      ]
     },
     "execution_count": 12,
     "metadata": {},
     "output_type": "execute_result"
    }
   ],
   "source": [
    "df['Weight'] = df['Weight'].replace('kg', '', regex=True).astype(float)\n",
    "df['Weight'].head().unique()"
   ]
  },
  {
   "attachments": {},
   "cell_type": "markdown",
   "metadata": {},
   "source": [
    "## ScreenResolution"
   ]
  },
  {
   "cell_type": "markdown",
   "metadata": {},
   "source": [
    "### Resolution"
   ]
  },
  {
   "cell_type": "code",
   "execution_count": 13,
   "metadata": {},
   "outputs": [],
   "source": [
    "df[['ResolutionX', 'ResolutionY']] = df['ScreenResolution'].str.extract(r'(\\d+)x(\\d+)').astype(int)"
   ]
  },
  {
   "cell_type": "markdown",
   "metadata": {},
   "source": [
    "### Touchscreen"
   ]
  },
  {
   "cell_type": "code",
   "execution_count": 14,
   "metadata": {},
   "outputs": [],
   "source": [
    "df['Touchscreen'] = df['ScreenResolution'].str.contains('Touchscreen')"
   ]
  },
  {
   "cell_type": "markdown",
   "metadata": {},
   "source": [
    "### IPS Panel"
   ]
  },
  {
   "cell_type": "code",
   "execution_count": 15,
   "metadata": {},
   "outputs": [],
   "source": [
    "df['IPS_Panel'] = df['ScreenResolution'].str.contains(r'(IPS Panel Retina Display|IPS Panel)', regex=True)"
   ]
  },
  {
   "cell_type": "code",
   "execution_count": 16,
   "metadata": {},
   "outputs": [
    {
     "data": {
      "text/html": [
       "<div>\n",
       "<style scoped>\n",
       "    .dataframe tbody tr th:only-of-type {\n",
       "        vertical-align: middle;\n",
       "    }\n",
       "\n",
       "    .dataframe tbody tr th {\n",
       "        vertical-align: top;\n",
       "    }\n",
       "\n",
       "    .dataframe thead th {\n",
       "        text-align: right;\n",
       "    }\n",
       "</style>\n",
       "<table border=\"1\" class=\"dataframe\">\n",
       "  <thead>\n",
       "    <tr style=\"text-align: right;\">\n",
       "      <th></th>\n",
       "      <th>ResolutionX</th>\n",
       "      <th>ResolutionY</th>\n",
       "      <th>Touchscreen</th>\n",
       "      <th>IPS_Panel</th>\n",
       "      <th>ScreenResolution</th>\n",
       "    </tr>\n",
       "  </thead>\n",
       "  <tbody>\n",
       "    <tr>\n",
       "      <th>15</th>\n",
       "      <td>2560</td>\n",
       "      <td>1600</td>\n",
       "      <td>False</td>\n",
       "      <td>True</td>\n",
       "      <td>IPS Panel Retina Display 2560x1600</td>\n",
       "    </tr>\n",
       "    <tr>\n",
       "      <th>16</th>\n",
       "      <td>1920</td>\n",
       "      <td>1080</td>\n",
       "      <td>False</td>\n",
       "      <td>False</td>\n",
       "      <td>Full HD 1920x1080</td>\n",
       "    </tr>\n",
       "    <tr>\n",
       "      <th>17</th>\n",
       "      <td>2880</td>\n",
       "      <td>1800</td>\n",
       "      <td>False</td>\n",
       "      <td>True</td>\n",
       "      <td>IPS Panel Retina Display 2880x1800</td>\n",
       "    </tr>\n",
       "    <tr>\n",
       "      <th>18</th>\n",
       "      <td>1920</td>\n",
       "      <td>1080</td>\n",
       "      <td>False</td>\n",
       "      <td>False</td>\n",
       "      <td>Full HD 1920x1080</td>\n",
       "    </tr>\n",
       "    <tr>\n",
       "      <th>19</th>\n",
       "      <td>1920</td>\n",
       "      <td>1080</td>\n",
       "      <td>True</td>\n",
       "      <td>True</td>\n",
       "      <td>IPS Panel Full HD / Touchscreen 1920x1080</td>\n",
       "    </tr>\n",
       "    <tr>\n",
       "      <th>20</th>\n",
       "      <td>1366</td>\n",
       "      <td>768</td>\n",
       "      <td>False</td>\n",
       "      <td>False</td>\n",
       "      <td>1366x768</td>\n",
       "    </tr>\n",
       "    <tr>\n",
       "      <th>21</th>\n",
       "      <td>1920</td>\n",
       "      <td>1080</td>\n",
       "      <td>False</td>\n",
       "      <td>True</td>\n",
       "      <td>IPS Panel Full HD 1920x1080</td>\n",
       "    </tr>\n",
       "    <tr>\n",
       "      <th>22</th>\n",
       "      <td>1366</td>\n",
       "      <td>768</td>\n",
       "      <td>False</td>\n",
       "      <td>False</td>\n",
       "      <td>1366x768</td>\n",
       "    </tr>\n",
       "    <tr>\n",
       "      <th>23</th>\n",
       "      <td>1920</td>\n",
       "      <td>1080</td>\n",
       "      <td>True</td>\n",
       "      <td>False</td>\n",
       "      <td>Full HD / Touchscreen 1920x1080</td>\n",
       "    </tr>\n",
       "    <tr>\n",
       "      <th>24</th>\n",
       "      <td>1920</td>\n",
       "      <td>1080</td>\n",
       "      <td>False</td>\n",
       "      <td>False</td>\n",
       "      <td>Full HD 1920x1080</td>\n",
       "    </tr>\n",
       "  </tbody>\n",
       "</table>\n",
       "</div>"
      ],
      "text/plain": [
       "    ResolutionX  ResolutionY  Touchscreen  IPS_Panel  \\\n",
       "15         2560         1600        False       True   \n",
       "16         1920         1080        False      False   \n",
       "17         2880         1800        False       True   \n",
       "18         1920         1080        False      False   \n",
       "19         1920         1080         True       True   \n",
       "20         1366          768        False      False   \n",
       "21         1920         1080        False       True   \n",
       "22         1366          768        False      False   \n",
       "23         1920         1080         True      False   \n",
       "24         1920         1080        False      False   \n",
       "\n",
       "                             ScreenResolution  \n",
       "15         IPS Panel Retina Display 2560x1600  \n",
       "16                          Full HD 1920x1080  \n",
       "17         IPS Panel Retina Display 2880x1800  \n",
       "18                          Full HD 1920x1080  \n",
       "19  IPS Panel Full HD / Touchscreen 1920x1080  \n",
       "20                                   1366x768  \n",
       "21                IPS Panel Full HD 1920x1080  \n",
       "22                                   1366x768  \n",
       "23            Full HD / Touchscreen 1920x1080  \n",
       "24                          Full HD 1920x1080  "
      ]
     },
     "execution_count": 16,
     "metadata": {},
     "output_type": "execute_result"
    }
   ],
   "source": [
    "df[['ResolutionX', 'ResolutionY', 'Touchscreen', 'IPS_Panel', 'ScreenResolution']].iloc[15:25,:]"
   ]
  },
  {
   "cell_type": "code",
   "execution_count": 17,
   "metadata": {},
   "outputs": [],
   "source": [
    "df.drop(['ScreenResolution'], axis=1, inplace=True) # As all information extracted"
   ]
  },
  {
   "attachments": {},
   "cell_type": "markdown",
   "metadata": {},
   "source": [
    "## Memory"
   ]
  },
  {
   "cell_type": "code",
   "execution_count": 18,
   "metadata": {},
   "outputs": [
    {
     "data": {
      "text/plain": [
       "array(['128GB SSD', '128GB Flash Storage', '256GB SSD', '512GB SSD',\n",
       "       '500GB HDD', '256GB Flash Storage', '1TB HDD',\n",
       "       '32GB Flash Storage', '128GB SSD +  1TB HDD',\n",
       "       '256GB SSD +  256GB SSD', '64GB Flash Storage',\n",
       "       '256GB SSD +  1TB HDD', '256GB SSD +  2TB HDD', '32GB SSD',\n",
       "       '2TB HDD', '64GB SSD', '1.0TB Hybrid', '512GB SSD +  1TB HDD',\n",
       "       '1TB SSD', '256GB SSD +  500GB HDD', '128GB SSD +  2TB HDD',\n",
       "       '512GB SSD +  512GB SSD', '16GB SSD', '16GB Flash Storage',\n",
       "       '512GB SSD +  256GB SSD', '512GB SSD +  2TB HDD',\n",
       "       '64GB Flash Storage +  1TB HDD', '180GB SSD', '1TB HDD +  1TB HDD',\n",
       "       '32GB HDD', '1TB SSD +  1TB HDD', '512GB Flash Storage',\n",
       "       '128GB HDD', '240GB SSD', '8GB SSD', '508GB Hybrid', '1.0TB HDD',\n",
       "       '512GB SSD +  1.0TB Hybrid', '256GB SSD +  1.0TB Hybrid'],\n",
       "      dtype=object)"
      ]
     },
     "execution_count": 18,
     "metadata": {},
     "output_type": "execute_result"
    }
   ],
   "source": [
    "df['Memory'].unique()"
   ]
  },
  {
   "cell_type": "code",
   "execution_count": 19,
   "metadata": {},
   "outputs": [
    {
     "data": {
      "text/plain": [
       "['128GB SSD',\n",
       " '256GB SSD',\n",
       " '512GB SSD',\n",
       " '500GB HDD',\n",
       " '1024GB HDD',\n",
       " '32GB SSD',\n",
       " '128GB SSD +  1024GB HDD',\n",
       " '256GB SSD +  256GB SSD',\n",
       " '64GB SSD',\n",
       " '256GB SSD +  1024GB HDD',\n",
       " '256GB SSD +  2048GB HDD',\n",
       " '2048GB HDD',\n",
       " '512GB SSD +  1024GB HDD',\n",
       " '1024GB SSD',\n",
       " '256GB SSD +  500GB HDD',\n",
       " '128GB SSD +  2048GB HDD',\n",
       " '512GB SSD +  512GB SSD',\n",
       " '16GB SSD',\n",
       " '512GB SSD +  256GB SSD',\n",
       " '512GB SSD +  2048GB HDD',\n",
       " '64GB SSD +  1024GB HDD',\n",
       " '180GB SSD',\n",
       " '1024GB HDD +  1024GB HDD',\n",
       " '32GB HDD',\n",
       " '1024GB SSD +  1024GB HDD',\n",
       " '128GB HDD',\n",
       " '240GB SSD',\n",
       " '8GB SSD',\n",
       " '508GB HDD']"
      ]
     },
     "execution_count": 19,
     "metadata": {},
     "output_type": "execute_result"
    }
   ],
   "source": [
    "df['Memory'].replace({'1TB':'1024GB', '1.0TB':'1024GB', '2TB':'2048GB'}, regex=True, inplace=True)\n",
    "df['Memory'].replace({'Flash Storage':'SSD', 'Hybrid':'HDD'}, regex=True, inplace=True)\n",
    "list(df['Memory'].unique())"
   ]
  },
  {
   "cell_type": "code",
   "execution_count": 20,
   "metadata": {},
   "outputs": [
    {
     "data": {
      "text/plain": [
       "['128GB SSD',\n",
       " '256GB SSD',\n",
       " '512GB SSD',\n",
       " '500GB HDD',\n",
       " '1024GB HDD',\n",
       " '32GB SSD',\n",
       " '128GB SSD +  1024GB HDD',\n",
       " '64GB SSD',\n",
       " '256GB SSD +  1024GB HDD',\n",
       " '256GB SSD +  2048GB HDD',\n",
       " '2048GB HDD',\n",
       " '512GB SSD +  1024GB HDD',\n",
       " '1024GB SSD',\n",
       " '256GB SSD +  500GB HDD',\n",
       " '128GB SSD +  2048GB HDD',\n",
       " '16GB SSD',\n",
       " '768GB SSD',\n",
       " '512GB SSD +  2048GB HDD',\n",
       " '64GB SSD +  1024GB HDD',\n",
       " '180GB SSD',\n",
       " '32GB HDD',\n",
       " '1024GB SSD +  1024GB HDD',\n",
       " '128GB HDD',\n",
       " '240GB SSD',\n",
       " '8GB SSD',\n",
       " '508GB HDD']"
      ]
     },
     "execution_count": 20,
     "metadata": {},
     "output_type": "execute_result"
    }
   ],
   "source": [
    "df['Memory'].replace({\n",
    "    '256GB SSD \\+  256GB SSD': '512GB SSD',\n",
    "    '512GB SSD \\+  256GB SSD': '768GB SSD',\n",
    "    '512GB SSD \\+  512GB SSD': '1024GB SSD',\n",
    "    '1024GB HDD \\+  1024GB HDD': '2048GB HDD'}, regex=True, inplace=True)\n",
    "list(df['Memory'].unique())"
   ]
  },
  {
   "cell_type": "code",
   "execution_count": 21,
   "metadata": {},
   "outputs": [],
   "source": [
    "df['SSD'] = df['Memory'].str.extract(r'(\\d+)GB SSD')\n",
    "df['HDD'] = df['Memory'].str.extract(r'(\\d+)GB HDD')"
   ]
  },
  {
   "cell_type": "code",
   "execution_count": 22,
   "metadata": {},
   "outputs": [
    {
     "data": {
      "text/plain": [
       "SSD    385\n",
       "HDD    715\n",
       "dtype: int64"
      ]
     },
     "execution_count": 22,
     "metadata": {},
     "output_type": "execute_result"
    }
   ],
   "source": [
    "df[['SSD','HDD']].isna().sum()"
   ]
  },
  {
   "cell_type": "code",
   "execution_count": 23,
   "metadata": {},
   "outputs": [
    {
     "data": {
      "text/plain": [
       "SSD    0\n",
       "HDD    0\n",
       "dtype: int64"
      ]
     },
     "execution_count": 23,
     "metadata": {},
     "output_type": "execute_result"
    }
   ],
   "source": [
    "df[['SSD','HDD']] = df[['SSD','HDD']].fillna('0').astype(int)\n",
    "df[['SSD','HDD']].isna().sum()"
   ]
  },
  {
   "cell_type": "code",
   "execution_count": 24,
   "metadata": {},
   "outputs": [],
   "source": [
    "df.drop(['Memory'], axis=1, inplace=True) # As all information extracted"
   ]
  },
  {
   "attachments": {},
   "cell_type": "markdown",
   "metadata": {},
   "source": [
    "## CPU"
   ]
  },
  {
   "cell_type": "code",
   "execution_count": 25,
   "metadata": {},
   "outputs": [
    {
     "data": {
      "text/plain": [
       "array(['Intel Core i5 2.3GHz', 'Intel Core i5 1.8GHz',\n",
       "       'Intel Core i5 7200U 2.5GHz', 'Intel Core i7 2.7GHz',\n",
       "       'Intel Core i5 3.1GHz', 'AMD A9-Series 9420 3GHz',\n",
       "       'Intel Core i7 2.2GHz', 'Intel Core i7 8550U 1.8GHz',\n",
       "       'Intel Core i5 8250U 1.6GHz', 'Intel Core i3 6006U 2GHz',\n",
       "       'Intel Core i7 2.8GHz', 'Intel Core M m3 1.2GHz',\n",
       "       'Intel Core i7 7500U 2.7GHz', 'Intel Core i7 2.9GHz',\n",
       "       'Intel Core i3 7100U 2.4GHz', 'Intel Atom x5-Z8350 1.44GHz',\n",
       "       'Intel Core i5 7300HQ 2.5GHz', 'AMD E-Series E2-9000e 1.5GHz',\n",
       "       'Intel Core i5 1.6GHz', 'Intel Core i7 8650U 1.9GHz',\n",
       "       'Intel Atom x5-Z8300 1.44GHz', 'AMD E-Series E2-6110 1.5GHz',\n",
       "       'AMD A6-Series 9220 2.5GHz',\n",
       "       'Intel Celeron Dual Core N3350 1.1GHz',\n",
       "       'Intel Core i3 7130U 2.7GHz', 'Intel Core i7 7700HQ 2.8GHz',\n",
       "       'Intel Core i5 2.0GHz', 'AMD Ryzen 1700 3GHz',\n",
       "       'Intel Pentium Quad Core N4200 1.1GHz'], dtype=object)"
      ]
     },
     "execution_count": 25,
     "metadata": {},
     "output_type": "execute_result"
    }
   ],
   "source": [
    "df['Cpu'].iloc[:50].unique()"
   ]
  },
  {
   "cell_type": "code",
   "execution_count": 26,
   "metadata": {},
   "outputs": [
    {
     "data": {
      "text/html": [
       "<div>\n",
       "<style scoped>\n",
       "    .dataframe tbody tr th:only-of-type {\n",
       "        vertical-align: middle;\n",
       "    }\n",
       "\n",
       "    .dataframe tbody tr th {\n",
       "        vertical-align: top;\n",
       "    }\n",
       "\n",
       "    .dataframe thead th {\n",
       "        text-align: right;\n",
       "    }\n",
       "</style>\n",
       "<table border=\"1\" class=\"dataframe\">\n",
       "  <thead>\n",
       "    <tr style=\"text-align: right;\">\n",
       "      <th></th>\n",
       "      <th>Company</th>\n",
       "      <th>TypeName</th>\n",
       "      <th>Inches</th>\n",
       "      <th>Cpu</th>\n",
       "      <th>Ram</th>\n",
       "      <th>Gpu</th>\n",
       "      <th>OpSys</th>\n",
       "      <th>Weight</th>\n",
       "      <th>Price</th>\n",
       "      <th>ResolutionX</th>\n",
       "      <th>ResolutionY</th>\n",
       "      <th>Touchscreen</th>\n",
       "      <th>IPS_Panel</th>\n",
       "      <th>SSD</th>\n",
       "      <th>HDD</th>\n",
       "    </tr>\n",
       "  </thead>\n",
       "  <tbody>\n",
       "    <tr>\n",
       "      <th>1191</th>\n",
       "      <td>Samsung</td>\n",
       "      <td>2 in 1 Convertible</td>\n",
       "      <td>12.3</td>\n",
       "      <td>Samsung Cortex A72&amp;A53 2.0GHz</td>\n",
       "      <td>4</td>\n",
       "      <td>ARM Mali T860 MP4</td>\n",
       "      <td>Chrome OS</td>\n",
       "      <td>1.15</td>\n",
       "      <td>659.0</td>\n",
       "      <td>2400</td>\n",
       "      <td>1600</td>\n",
       "      <td>True</td>\n",
       "      <td>True</td>\n",
       "      <td>32</td>\n",
       "      <td>0</td>\n",
       "    </tr>\n",
       "  </tbody>\n",
       "</table>\n",
       "</div>"
      ],
      "text/plain": [
       "      Company            TypeName  Inches                            Cpu  Ram  \\\n",
       "1191  Samsung  2 in 1 Convertible    12.3  Samsung Cortex A72&A53 2.0GHz    4   \n",
       "\n",
       "                    Gpu      OpSys  Weight  Price  ResolutionX  ResolutionY  \\\n",
       "1191  ARM Mali T860 MP4  Chrome OS    1.15  659.0         2400         1600   \n",
       "\n",
       "      Touchscreen  IPS_Panel  SSD  HDD  \n",
       "1191         True       True   32    0  "
      ]
     },
     "execution_count": 26,
     "metadata": {},
     "output_type": "execute_result"
    }
   ],
   "source": [
    "df[df['Cpu'].str.contains('(Intel|AMD)') == False]"
   ]
  },
  {
   "cell_type": "markdown",
   "metadata": {},
   "source": [
    "### Clock Speed"
   ]
  },
  {
   "cell_type": "code",
   "execution_count": 27,
   "metadata": {},
   "outputs": [],
   "source": [
    "df.drop(index=1191, inplace=True) # Only one record. So dropped it"
   ]
  },
  {
   "cell_type": "code",
   "execution_count": 28,
   "metadata": {},
   "outputs": [
    {
     "data": {
      "text/html": [
       "<div>\n",
       "<style scoped>\n",
       "    .dataframe tbody tr th:only-of-type {\n",
       "        vertical-align: middle;\n",
       "    }\n",
       "\n",
       "    .dataframe tbody tr th {\n",
       "        vertical-align: top;\n",
       "    }\n",
       "\n",
       "    .dataframe thead th {\n",
       "        text-align: right;\n",
       "    }\n",
       "</style>\n",
       "<table border=\"1\" class=\"dataframe\">\n",
       "  <thead>\n",
       "    <tr style=\"text-align: right;\">\n",
       "      <th></th>\n",
       "      <th>Clock_Speed</th>\n",
       "      <th>Cpu</th>\n",
       "    </tr>\n",
       "  </thead>\n",
       "  <tbody>\n",
       "    <tr>\n",
       "      <th>0</th>\n",
       "      <td>2.3</td>\n",
       "      <td>Intel Core i5 2.3GHz</td>\n",
       "    </tr>\n",
       "    <tr>\n",
       "      <th>1</th>\n",
       "      <td>1.8</td>\n",
       "      <td>Intel Core i5 1.8GHz</td>\n",
       "    </tr>\n",
       "    <tr>\n",
       "      <th>2</th>\n",
       "      <td>2.5</td>\n",
       "      <td>Intel Core i5 7200U 2.5GHz</td>\n",
       "    </tr>\n",
       "  </tbody>\n",
       "</table>\n",
       "</div>"
      ],
      "text/plain": [
       "   Clock_Speed                         Cpu\n",
       "0          2.3        Intel Core i5 2.3GHz\n",
       "1          1.8        Intel Core i5 1.8GHz\n",
       "2          2.5  Intel Core i5 7200U 2.5GHz"
      ]
     },
     "execution_count": 28,
     "metadata": {},
     "output_type": "execute_result"
    }
   ],
   "source": [
    "df['Clock_Speed'] = df['Cpu'].str.extract(r'\\s([\\d\\.]+)GHz').astype(float)\n",
    "df[['Clock_Speed', 'Cpu']].head(3)"
   ]
  },
  {
   "cell_type": "code",
   "execution_count": 29,
   "metadata": {},
   "outputs": [],
   "source": [
    "def CPU_Brand(cpu):\n",
    "    if 'AMD' in cpu:\n",
    "        return 'AMD'\n",
    "    elif 'Intel Core i' in cpu:\n",
    "        return 'Intel Core ' + cpu.split(' ')[2]\n",
    "    else:\n",
    "        return 'Intel Other'\n",
    "    \n",
    "df['CPU_Brand'] = df['Cpu'].apply(CPU_Brand)"
   ]
  },
  {
   "cell_type": "code",
   "execution_count": 30,
   "metadata": {},
   "outputs": [
    {
     "data": {
      "text/html": [
       "<div>\n",
       "<style scoped>\n",
       "    .dataframe tbody tr th:only-of-type {\n",
       "        vertical-align: middle;\n",
       "    }\n",
       "\n",
       "    .dataframe tbody tr th {\n",
       "        vertical-align: top;\n",
       "    }\n",
       "\n",
       "    .dataframe thead th {\n",
       "        text-align: right;\n",
       "    }\n",
       "</style>\n",
       "<table border=\"1\" class=\"dataframe\">\n",
       "  <thead>\n",
       "    <tr style=\"text-align: right;\">\n",
       "      <th></th>\n",
       "      <th>CPU_Brand</th>\n",
       "      <th>Cpu</th>\n",
       "    </tr>\n",
       "  </thead>\n",
       "  <tbody>\n",
       "    <tr>\n",
       "      <th>28</th>\n",
       "      <td>Intel Core i7</td>\n",
       "      <td>Intel Core i7 8650U 1.9GHz</td>\n",
       "    </tr>\n",
       "    <tr>\n",
       "      <th>29</th>\n",
       "      <td>Intel Core i5</td>\n",
       "      <td>Intel Core i5 8250U 1.6GHz</td>\n",
       "    </tr>\n",
       "    <tr>\n",
       "      <th>30</th>\n",
       "      <td>Intel Other</td>\n",
       "      <td>Intel Atom x5-Z8300 1.44GHz</td>\n",
       "    </tr>\n",
       "    <tr>\n",
       "      <th>31</th>\n",
       "      <td>AMD</td>\n",
       "      <td>AMD E-Series E2-6110 1.5GHz</td>\n",
       "    </tr>\n",
       "    <tr>\n",
       "      <th>32</th>\n",
       "      <td>AMD</td>\n",
       "      <td>AMD A6-Series 9220 2.5GHz</td>\n",
       "    </tr>\n",
       "    <tr>\n",
       "      <th>33</th>\n",
       "      <td>Intel Core i7</td>\n",
       "      <td>Intel Core i7 8550U 1.8GHz</td>\n",
       "    </tr>\n",
       "    <tr>\n",
       "      <th>34</th>\n",
       "      <td>Intel Core i5</td>\n",
       "      <td>Intel Core i5 1.6GHz</td>\n",
       "    </tr>\n",
       "    <tr>\n",
       "      <th>35</th>\n",
       "      <td>Intel Other</td>\n",
       "      <td>Intel Celeron Dual Core N3350 1.1GHz</td>\n",
       "    </tr>\n",
       "    <tr>\n",
       "      <th>36</th>\n",
       "      <td>Intel Core i3</td>\n",
       "      <td>Intel Core i3 7130U 2.7GHz</td>\n",
       "    </tr>\n",
       "    <tr>\n",
       "      <th>37</th>\n",
       "      <td>Intel Core i5</td>\n",
       "      <td>Intel Core i5 8250U 1.6GHz</td>\n",
       "    </tr>\n",
       "    <tr>\n",
       "      <th>38</th>\n",
       "      <td>Intel Core i5</td>\n",
       "      <td>Intel Core i5 7200U 2.5GHz</td>\n",
       "    </tr>\n",
       "    <tr>\n",
       "      <th>39</th>\n",
       "      <td>Intel Core i5</td>\n",
       "      <td>Intel Core i5 8250U 1.6GHz</td>\n",
       "    </tr>\n",
       "    <tr>\n",
       "      <th>40</th>\n",
       "      <td>Intel Core i3</td>\n",
       "      <td>Intel Core i3 6006U 2GHz</td>\n",
       "    </tr>\n",
       "  </tbody>\n",
       "</table>\n",
       "</div>"
      ],
      "text/plain": [
       "        CPU_Brand                                   Cpu\n",
       "28  Intel Core i7            Intel Core i7 8650U 1.9GHz\n",
       "29  Intel Core i5            Intel Core i5 8250U 1.6GHz\n",
       "30    Intel Other           Intel Atom x5-Z8300 1.44GHz\n",
       "31            AMD           AMD E-Series E2-6110 1.5GHz\n",
       "32            AMD             AMD A6-Series 9220 2.5GHz\n",
       "33  Intel Core i7            Intel Core i7 8550U 1.8GHz\n",
       "34  Intel Core i5                  Intel Core i5 1.6GHz\n",
       "35    Intel Other  Intel Celeron Dual Core N3350 1.1GHz\n",
       "36  Intel Core i3            Intel Core i3 7130U 2.7GHz\n",
       "37  Intel Core i5            Intel Core i5 8250U 1.6GHz\n",
       "38  Intel Core i5            Intel Core i5 7200U 2.5GHz\n",
       "39  Intel Core i5            Intel Core i5 8250U 1.6GHz\n",
       "40  Intel Core i3              Intel Core i3 6006U 2GHz"
      ]
     },
     "execution_count": 30,
     "metadata": {},
     "output_type": "execute_result"
    }
   ],
   "source": [
    "df[['CPU_Brand','Cpu']].iloc[28:41]"
   ]
  },
  {
   "cell_type": "code",
   "execution_count": 31,
   "metadata": {},
   "outputs": [],
   "source": [
    "df.drop(['Cpu'], axis=1, inplace=True) # As all information extracted"
   ]
  },
  {
   "attachments": {},
   "cell_type": "markdown",
   "metadata": {},
   "source": [
    "## GPU"
   ]
  },
  {
   "cell_type": "code",
   "execution_count": 32,
   "metadata": {},
   "outputs": [
    {
     "data": {
      "text/plain": [
       "array(['Intel Iris Plus Graphics 640', 'Intel HD Graphics 6000',\n",
       "       'Intel HD Graphics 620', 'AMD Radeon Pro 455',\n",
       "       'Intel Iris Plus Graphics 650', 'AMD Radeon R5',\n",
       "       'Intel Iris Pro Graphics', 'Nvidia GeForce MX150',\n",
       "       'Intel UHD Graphics 620', 'Intel HD Graphics 520',\n",
       "       'AMD Radeon Pro 555', 'AMD Radeon R5 M430',\n",
       "       'Intel HD Graphics 615', 'AMD Radeon Pro 560',\n",
       "       'Nvidia GeForce 940MX', 'Intel HD Graphics 400',\n",
       "       'Nvidia GeForce GTX 1050', 'AMD Radeon R2', 'AMD Radeon 530',\n",
       "       'Nvidia GeForce 930MX', 'Intel HD Graphics',\n",
       "       'Intel HD Graphics 500', 'Nvidia GeForce GTX 1060',\n",
       "       'Nvidia GeForce 150MX', 'Intel Iris Graphics 540',\n",
       "       'AMD Radeon RX 580', 'Nvidia GeForce 920MX'], dtype=object)"
      ]
     },
     "execution_count": 32,
     "metadata": {},
     "output_type": "execute_result"
    }
   ],
   "source": [
    "df['Gpu'].iloc[:50].unique()"
   ]
  },
  {
   "cell_type": "code",
   "execution_count": 33,
   "metadata": {},
   "outputs": [
    {
     "data": {
      "text/plain": [
       "array(['AMD Radeon Pro 455', 'AMD Radeon R5', 'AMD Radeon Pro 555',\n",
       "       'AMD Radeon R5 M430', 'AMD Radeon Pro 560', 'AMD Radeon R2',\n",
       "       'AMD Radeon 530', 'AMD Radeon RX 580', 'AMD Radeon R4 Graphics',\n",
       "       'AMD Radeon 520', 'AMD R4 Graphics', 'AMD Radeon RX 560',\n",
       "       'AMD Radeon R7 M445', 'AMD Radeon RX 550', 'AMD Radeon R5 M420',\n",
       "       'AMD R17M-M1-70', 'AMD FirePro W4190M', 'AMD Radeon R5 430',\n",
       "       'AMD Radeon RX 540', 'AMD FirePro W5130M', 'AMD Radeon R4',\n",
       "       'AMD Radeon R7 M460', 'AMD Radeon R2 Graphics',\n",
       "       'AMD Radeon R5 520', 'AMD Radeon R7 M440', 'AMD Radeon R7',\n",
       "       'AMD Radeon 540', 'AMD Radeon R5 M420X', 'AMD Radeon R7 Graphics',\n",
       "       'AMD Radeon R7 M465', 'AMD Radeon R3', 'AMD Radeon R7 M365X',\n",
       "       'AMD Radeon R9 M385', 'AMD Radeon R5 M330', 'AMD FirePro W6150M',\n",
       "       'AMD Radeon R5 M315', 'AMD Radeon R7 M360'], dtype=object)"
      ]
     },
     "execution_count": 33,
     "metadata": {},
     "output_type": "execute_result"
    }
   ],
   "source": [
    "df[df['Gpu'].str.contains('AMD')]['Gpu'].unique()"
   ]
  },
  {
   "cell_type": "code",
   "execution_count": 34,
   "metadata": {},
   "outputs": [],
   "source": [
    "def GPU_Brand(gpu):\n",
    "    if 'AMD' in gpu:\n",
    "        return 'AMD Radeon' if 'Radeon' in gpu else 'AMD Other'\n",
    "    elif 'Intel' in gpu:\n",
    "        return 'Intel Iris' if 'Iris' in gpu else 'Intel HD Graphics'\n",
    "    elif 'Nvidia' in gpu:\n",
    "        return 'Nvidia Quadro' if 'Quadro' in gpu else 'Nvidia GTX' if 'GTX' in gpu else 'Nvidia GeForce'\n",
    "    \n",
    "df['GPU_Brand'] = df['Gpu'].apply(GPU_Brand)"
   ]
  },
  {
   "cell_type": "code",
   "execution_count": 35,
   "metadata": {},
   "outputs": [
    {
     "data": {
      "text/plain": [
       "array(['Intel Iris', 'Intel HD Graphics', 'AMD Radeon', 'Nvidia GeForce',\n",
       "       'Nvidia GTX', 'AMD Other', 'Nvidia Quadro'], dtype=object)"
      ]
     },
     "execution_count": 35,
     "metadata": {},
     "output_type": "execute_result"
    }
   ],
   "source": [
    "df['GPU_Brand'].unique()"
   ]
  },
  {
   "cell_type": "code",
   "execution_count": 36,
   "metadata": {},
   "outputs": [
    {
     "data": {
      "text/html": [
       "<div>\n",
       "<style scoped>\n",
       "    .dataframe tbody tr th:only-of-type {\n",
       "        vertical-align: middle;\n",
       "    }\n",
       "\n",
       "    .dataframe tbody tr th {\n",
       "        vertical-align: top;\n",
       "    }\n",
       "\n",
       "    .dataframe thead th {\n",
       "        text-align: right;\n",
       "    }\n",
       "</style>\n",
       "<table border=\"1\" class=\"dataframe\">\n",
       "  <thead>\n",
       "    <tr style=\"text-align: right;\">\n",
       "      <th></th>\n",
       "      <th>GPU_Brand</th>\n",
       "      <th>Gpu</th>\n",
       "    </tr>\n",
       "  </thead>\n",
       "  <tbody>\n",
       "    <tr>\n",
       "      <th>0</th>\n",
       "      <td>Intel Iris</td>\n",
       "      <td>Intel Iris Plus Graphics 640</td>\n",
       "    </tr>\n",
       "    <tr>\n",
       "      <th>1</th>\n",
       "      <td>Intel HD Graphics</td>\n",
       "      <td>Intel HD Graphics 6000</td>\n",
       "    </tr>\n",
       "    <tr>\n",
       "      <th>2</th>\n",
       "      <td>Intel HD Graphics</td>\n",
       "      <td>Intel HD Graphics 620</td>\n",
       "    </tr>\n",
       "    <tr>\n",
       "      <th>3</th>\n",
       "      <td>AMD Radeon</td>\n",
       "      <td>AMD Radeon Pro 455</td>\n",
       "    </tr>\n",
       "    <tr>\n",
       "      <th>4</th>\n",
       "      <td>Intel Iris</td>\n",
       "      <td>Intel Iris Plus Graphics 650</td>\n",
       "    </tr>\n",
       "  </tbody>\n",
       "</table>\n",
       "</div>"
      ],
      "text/plain": [
       "           GPU_Brand                           Gpu\n",
       "0         Intel Iris  Intel Iris Plus Graphics 640\n",
       "1  Intel HD Graphics        Intel HD Graphics 6000\n",
       "2  Intel HD Graphics         Intel HD Graphics 620\n",
       "3         AMD Radeon            AMD Radeon Pro 455\n",
       "4         Intel Iris  Intel Iris Plus Graphics 650"
      ]
     },
     "execution_count": 36,
     "metadata": {},
     "output_type": "execute_result"
    }
   ],
   "source": [
    "df[['GPU_Brand','Gpu']].head()"
   ]
  },
  {
   "cell_type": "code",
   "execution_count": 37,
   "metadata": {},
   "outputs": [],
   "source": [
    "df.drop(['Gpu'], axis=1, inplace=True) # As all information extracted"
   ]
  },
  {
   "cell_type": "markdown",
   "metadata": {},
   "source": [
    "## Removing duplicates"
   ]
  },
  {
   "cell_type": "code",
   "execution_count": 38,
   "metadata": {},
   "outputs": [
    {
     "data": {
      "text/plain": [
       "(1302, 16)"
      ]
     },
     "execution_count": 38,
     "metadata": {},
     "output_type": "execute_result"
    }
   ],
   "source": [
    "df.shape"
   ]
  },
  {
   "cell_type": "code",
   "execution_count": 39,
   "metadata": {},
   "outputs": [],
   "source": [
    "df.drop_duplicates(inplace=True)"
   ]
  },
  {
   "cell_type": "code",
   "execution_count": 40,
   "metadata": {},
   "outputs": [
    {
     "data": {
      "text/plain": [
       "(1273, 16)"
      ]
     },
     "execution_count": 40,
     "metadata": {},
     "output_type": "execute_result"
    }
   ],
   "source": [
    "df.shape"
   ]
  },
  {
   "cell_type": "markdown",
   "metadata": {},
   "source": [
    "<><><><><><><><><><><><><><><><><><><><><><><><><><><><><><><><><><><><><><><><><><><><><><><><><></br>\n",
    "<><><><><><><><><><><><><><><><><><><><><><><><><><><><><><><><><><><><><><><><><><><><><><><><><>"
   ]
  },
  {
   "attachments": {},
   "cell_type": "markdown",
   "metadata": {},
   "source": [
    "# DataFrame after cleanup"
   ]
  },
  {
   "cell_type": "code",
   "execution_count": 41,
   "metadata": {},
   "outputs": [
    {
     "data": {
      "text/html": [
       "<div>\n",
       "<style scoped>\n",
       "    .dataframe tbody tr th:only-of-type {\n",
       "        vertical-align: middle;\n",
       "    }\n",
       "\n",
       "    .dataframe tbody tr th {\n",
       "        vertical-align: top;\n",
       "    }\n",
       "\n",
       "    .dataframe thead th {\n",
       "        text-align: right;\n",
       "    }\n",
       "</style>\n",
       "<table border=\"1\" class=\"dataframe\">\n",
       "  <thead>\n",
       "    <tr style=\"text-align: right;\">\n",
       "      <th></th>\n",
       "      <th>Company</th>\n",
       "      <th>TypeName</th>\n",
       "      <th>Inches</th>\n",
       "      <th>Ram</th>\n",
       "      <th>OpSys</th>\n",
       "      <th>Weight</th>\n",
       "      <th>Price</th>\n",
       "      <th>ResolutionX</th>\n",
       "      <th>ResolutionY</th>\n",
       "      <th>Touchscreen</th>\n",
       "      <th>IPS_Panel</th>\n",
       "      <th>SSD</th>\n",
       "      <th>HDD</th>\n",
       "      <th>Clock_Speed</th>\n",
       "      <th>CPU_Brand</th>\n",
       "      <th>GPU_Brand</th>\n",
       "    </tr>\n",
       "  </thead>\n",
       "  <tbody>\n",
       "    <tr>\n",
       "      <th>0</th>\n",
       "      <td>Apple</td>\n",
       "      <td>Ultrabook</td>\n",
       "      <td>13.3</td>\n",
       "      <td>8</td>\n",
       "      <td>macOS</td>\n",
       "      <td>1.37</td>\n",
       "      <td>1339.69</td>\n",
       "      <td>2560</td>\n",
       "      <td>1600</td>\n",
       "      <td>False</td>\n",
       "      <td>True</td>\n",
       "      <td>128</td>\n",
       "      <td>0</td>\n",
       "      <td>2.3</td>\n",
       "      <td>Intel Core i5</td>\n",
       "      <td>Intel Iris</td>\n",
       "    </tr>\n",
       "    <tr>\n",
       "      <th>1</th>\n",
       "      <td>Apple</td>\n",
       "      <td>Ultrabook</td>\n",
       "      <td>13.3</td>\n",
       "      <td>8</td>\n",
       "      <td>macOS</td>\n",
       "      <td>1.34</td>\n",
       "      <td>898.94</td>\n",
       "      <td>1440</td>\n",
       "      <td>900</td>\n",
       "      <td>False</td>\n",
       "      <td>False</td>\n",
       "      <td>128</td>\n",
       "      <td>0</td>\n",
       "      <td>1.8</td>\n",
       "      <td>Intel Core i5</td>\n",
       "      <td>Intel HD Graphics</td>\n",
       "    </tr>\n",
       "    <tr>\n",
       "      <th>2</th>\n",
       "      <td>HP</td>\n",
       "      <td>Notebook</td>\n",
       "      <td>15.6</td>\n",
       "      <td>8</td>\n",
       "      <td>No OS</td>\n",
       "      <td>1.86</td>\n",
       "      <td>575.00</td>\n",
       "      <td>1920</td>\n",
       "      <td>1080</td>\n",
       "      <td>False</td>\n",
       "      <td>False</td>\n",
       "      <td>256</td>\n",
       "      <td>0</td>\n",
       "      <td>2.5</td>\n",
       "      <td>Intel Core i5</td>\n",
       "      <td>Intel HD Graphics</td>\n",
       "    </tr>\n",
       "    <tr>\n",
       "      <th>3</th>\n",
       "      <td>Apple</td>\n",
       "      <td>Ultrabook</td>\n",
       "      <td>15.4</td>\n",
       "      <td>16</td>\n",
       "      <td>macOS</td>\n",
       "      <td>1.83</td>\n",
       "      <td>2537.45</td>\n",
       "      <td>2880</td>\n",
       "      <td>1800</td>\n",
       "      <td>False</td>\n",
       "      <td>True</td>\n",
       "      <td>512</td>\n",
       "      <td>0</td>\n",
       "      <td>2.7</td>\n",
       "      <td>Intel Core i7</td>\n",
       "      <td>AMD Radeon</td>\n",
       "    </tr>\n",
       "    <tr>\n",
       "      <th>4</th>\n",
       "      <td>Apple</td>\n",
       "      <td>Ultrabook</td>\n",
       "      <td>13.3</td>\n",
       "      <td>8</td>\n",
       "      <td>macOS</td>\n",
       "      <td>1.37</td>\n",
       "      <td>1803.60</td>\n",
       "      <td>2560</td>\n",
       "      <td>1600</td>\n",
       "      <td>False</td>\n",
       "      <td>True</td>\n",
       "      <td>256</td>\n",
       "      <td>0</td>\n",
       "      <td>3.1</td>\n",
       "      <td>Intel Core i5</td>\n",
       "      <td>Intel Iris</td>\n",
       "    </tr>\n",
       "  </tbody>\n",
       "</table>\n",
       "</div>"
      ],
      "text/plain": [
       "  Company   TypeName  Inches  Ram  OpSys  Weight    Price  ResolutionX  \\\n",
       "0   Apple  Ultrabook    13.3    8  macOS    1.37  1339.69         2560   \n",
       "1   Apple  Ultrabook    13.3    8  macOS    1.34   898.94         1440   \n",
       "2      HP   Notebook    15.6    8  No OS    1.86   575.00         1920   \n",
       "3   Apple  Ultrabook    15.4   16  macOS    1.83  2537.45         2880   \n",
       "4   Apple  Ultrabook    13.3    8  macOS    1.37  1803.60         2560   \n",
       "\n",
       "   ResolutionY  Touchscreen  IPS_Panel  SSD  HDD  Clock_Speed      CPU_Brand  \\\n",
       "0         1600        False       True  128    0          2.3  Intel Core i5   \n",
       "1          900        False      False  128    0          1.8  Intel Core i5   \n",
       "2         1080        False      False  256    0          2.5  Intel Core i5   \n",
       "3         1800        False       True  512    0          2.7  Intel Core i7   \n",
       "4         1600        False       True  256    0          3.1  Intel Core i5   \n",
       "\n",
       "           GPU_Brand  \n",
       "0         Intel Iris  \n",
       "1  Intel HD Graphics  \n",
       "2  Intel HD Graphics  \n",
       "3         AMD Radeon  \n",
       "4         Intel Iris  "
      ]
     },
     "execution_count": 41,
     "metadata": {},
     "output_type": "execute_result"
    }
   ],
   "source": [
    "df.head()"
   ]
  },
  {
   "cell_type": "markdown",
   "metadata": {},
   "source": [
    "# Null Checking"
   ]
  },
  {
   "cell_type": "code",
   "execution_count": 42,
   "metadata": {},
   "outputs": [
    {
     "data": {
      "text/plain": [
       "Company        0\n",
       "TypeName       0\n",
       "Inches         0\n",
       "Ram            0\n",
       "OpSys          0\n",
       "Weight         0\n",
       "Price          0\n",
       "ResolutionX    0\n",
       "ResolutionY    0\n",
       "Touchscreen    0\n",
       "IPS_Panel      0\n",
       "SSD            0\n",
       "HDD            0\n",
       "Clock_Speed    0\n",
       "CPU_Brand      0\n",
       "GPU_Brand      0\n",
       "dtype: int64"
      ]
     },
     "execution_count": 42,
     "metadata": {},
     "output_type": "execute_result"
    }
   ],
   "source": [
    "df.isna().sum()"
   ]
  },
  {
   "cell_type": "markdown",
   "metadata": {},
   "source": [
    "## Categorical Columns"
   ]
  },
  {
   "cell_type": "code",
   "execution_count": 43,
   "metadata": {},
   "outputs": [],
   "source": [
    "categorical_columns = df.select_dtypes(include='object').columns"
   ]
  },
  {
   "cell_type": "code",
   "execution_count": 44,
   "metadata": {},
   "outputs": [
    {
     "data": {
      "text/plain": [
       "Index(['Company', 'TypeName', 'OpSys', 'CPU_Brand', 'GPU_Brand'], dtype='object')"
      ]
     },
     "execution_count": 44,
     "metadata": {},
     "output_type": "execute_result"
    }
   ],
   "source": [
    "categorical_columns"
   ]
  },
  {
   "cell_type": "markdown",
   "metadata": {},
   "source": [
    "## Unique Values"
   ]
  },
  {
   "cell_type": "code",
   "execution_count": 45,
   "metadata": {},
   "outputs": [
    {
     "name": "stdout",
     "output_type": "stream",
     "text": [
      "Company: ['Apple', 'HP', 'Acer', 'Asus', 'Dell', 'Lenovo', 'Chuwi', 'MSI', 'Microsoft', 'Toshiba', 'Huawei', 'Xiaomi', 'Vero', 'Razer', 'Mediacom', 'Samsung', 'Google', 'Fujitsu', 'LG']\n",
      "TypeName: ['Ultrabook', 'Notebook', 'Netbook', 'Gaming', '2 in 1 Convertible', 'Workstation']\n",
      "OpSys: ['macOS', 'No OS', 'Windows 10', 'Mac OS X', 'Linux', 'Android', 'Windows 10 S', 'Chrome OS', 'Windows 7']\n",
      "CPU_Brand: ['Intel Core i5', 'Intel Core i7', 'AMD', 'Intel Core i3', 'Intel Other']\n",
      "GPU_Brand: ['Intel Iris', 'Intel HD Graphics', 'AMD Radeon', 'Nvidia GeForce', 'Nvidia GTX', 'AMD Other', 'Nvidia Quadro']\n"
     ]
    }
   ],
   "source": [
    "for col in categorical_columns:\n",
    "    print(f\"{col}: {list(df[col].unique())}\")"
   ]
  },
  {
   "cell_type": "markdown",
   "metadata": {},
   "source": [
    "# Encoding"
   ]
  },
  {
   "cell_type": "code",
   "execution_count": 46,
   "metadata": {},
   "outputs": [
    {
     "data": {
      "text/html": [
       "<div>\n",
       "<style scoped>\n",
       "    .dataframe tbody tr th:only-of-type {\n",
       "        vertical-align: middle;\n",
       "    }\n",
       "\n",
       "    .dataframe tbody tr th {\n",
       "        vertical-align: top;\n",
       "    }\n",
       "\n",
       "    .dataframe thead th {\n",
       "        text-align: right;\n",
       "    }\n",
       "</style>\n",
       "<table border=\"1\" class=\"dataframe\">\n",
       "  <thead>\n",
       "    <tr style=\"text-align: right;\">\n",
       "      <th></th>\n",
       "      <th>Inches</th>\n",
       "      <th>Ram</th>\n",
       "      <th>Weight</th>\n",
       "      <th>Price</th>\n",
       "      <th>ResolutionX</th>\n",
       "      <th>ResolutionY</th>\n",
       "      <th>Touchscreen</th>\n",
       "      <th>IPS_Panel</th>\n",
       "      <th>SSD</th>\n",
       "      <th>HDD</th>\n",
       "      <th>...</th>\n",
       "      <th>CPU_Intel Core i3</th>\n",
       "      <th>CPU_Intel Core i5</th>\n",
       "      <th>CPU_Intel Core i7</th>\n",
       "      <th>CPU_Intel Other</th>\n",
       "      <th>GPU_AMD Radeon</th>\n",
       "      <th>GPU_Intel HD Graphics</th>\n",
       "      <th>GPU_Intel Iris</th>\n",
       "      <th>GPU_Nvidia GTX</th>\n",
       "      <th>GPU_Nvidia GeForce</th>\n",
       "      <th>GPU_Nvidia Quadro</th>\n",
       "    </tr>\n",
       "  </thead>\n",
       "  <tbody>\n",
       "    <tr>\n",
       "      <th>0</th>\n",
       "      <td>13.3</td>\n",
       "      <td>8</td>\n",
       "      <td>1.37</td>\n",
       "      <td>1339.69</td>\n",
       "      <td>2560</td>\n",
       "      <td>1600</td>\n",
       "      <td>False</td>\n",
       "      <td>True</td>\n",
       "      <td>128</td>\n",
       "      <td>0</td>\n",
       "      <td>...</td>\n",
       "      <td>False</td>\n",
       "      <td>True</td>\n",
       "      <td>False</td>\n",
       "      <td>False</td>\n",
       "      <td>False</td>\n",
       "      <td>False</td>\n",
       "      <td>True</td>\n",
       "      <td>False</td>\n",
       "      <td>False</td>\n",
       "      <td>False</td>\n",
       "    </tr>\n",
       "    <tr>\n",
       "      <th>1</th>\n",
       "      <td>13.3</td>\n",
       "      <td>8</td>\n",
       "      <td>1.34</td>\n",
       "      <td>898.94</td>\n",
       "      <td>1440</td>\n",
       "      <td>900</td>\n",
       "      <td>False</td>\n",
       "      <td>False</td>\n",
       "      <td>128</td>\n",
       "      <td>0</td>\n",
       "      <td>...</td>\n",
       "      <td>False</td>\n",
       "      <td>True</td>\n",
       "      <td>False</td>\n",
       "      <td>False</td>\n",
       "      <td>False</td>\n",
       "      <td>True</td>\n",
       "      <td>False</td>\n",
       "      <td>False</td>\n",
       "      <td>False</td>\n",
       "      <td>False</td>\n",
       "    </tr>\n",
       "    <tr>\n",
       "      <th>2</th>\n",
       "      <td>15.6</td>\n",
       "      <td>8</td>\n",
       "      <td>1.86</td>\n",
       "      <td>575.00</td>\n",
       "      <td>1920</td>\n",
       "      <td>1080</td>\n",
       "      <td>False</td>\n",
       "      <td>False</td>\n",
       "      <td>256</td>\n",
       "      <td>0</td>\n",
       "      <td>...</td>\n",
       "      <td>False</td>\n",
       "      <td>True</td>\n",
       "      <td>False</td>\n",
       "      <td>False</td>\n",
       "      <td>False</td>\n",
       "      <td>True</td>\n",
       "      <td>False</td>\n",
       "      <td>False</td>\n",
       "      <td>False</td>\n",
       "      <td>False</td>\n",
       "    </tr>\n",
       "    <tr>\n",
       "      <th>3</th>\n",
       "      <td>15.4</td>\n",
       "      <td>16</td>\n",
       "      <td>1.83</td>\n",
       "      <td>2537.45</td>\n",
       "      <td>2880</td>\n",
       "      <td>1800</td>\n",
       "      <td>False</td>\n",
       "      <td>True</td>\n",
       "      <td>512</td>\n",
       "      <td>0</td>\n",
       "      <td>...</td>\n",
       "      <td>False</td>\n",
       "      <td>False</td>\n",
       "      <td>True</td>\n",
       "      <td>False</td>\n",
       "      <td>True</td>\n",
       "      <td>False</td>\n",
       "      <td>False</td>\n",
       "      <td>False</td>\n",
       "      <td>False</td>\n",
       "      <td>False</td>\n",
       "    </tr>\n",
       "    <tr>\n",
       "      <th>4</th>\n",
       "      <td>13.3</td>\n",
       "      <td>8</td>\n",
       "      <td>1.37</td>\n",
       "      <td>1803.60</td>\n",
       "      <td>2560</td>\n",
       "      <td>1600</td>\n",
       "      <td>False</td>\n",
       "      <td>True</td>\n",
       "      <td>256</td>\n",
       "      <td>0</td>\n",
       "      <td>...</td>\n",
       "      <td>False</td>\n",
       "      <td>True</td>\n",
       "      <td>False</td>\n",
       "      <td>False</td>\n",
       "      <td>False</td>\n",
       "      <td>False</td>\n",
       "      <td>True</td>\n",
       "      <td>False</td>\n",
       "      <td>False</td>\n",
       "      <td>False</td>\n",
       "    </tr>\n",
       "  </tbody>\n",
       "</table>\n",
       "<p>5 rows × 52 columns</p>\n",
       "</div>"
      ],
      "text/plain": [
       "   Inches  Ram  Weight    Price  ResolutionX  ResolutionY  Touchscreen  \\\n",
       "0    13.3    8    1.37  1339.69         2560         1600        False   \n",
       "1    13.3    8    1.34   898.94         1440          900        False   \n",
       "2    15.6    8    1.86   575.00         1920         1080        False   \n",
       "3    15.4   16    1.83  2537.45         2880         1800        False   \n",
       "4    13.3    8    1.37  1803.60         2560         1600        False   \n",
       "\n",
       "   IPS_Panel  SSD  HDD  ...  CPU_Intel Core i3  CPU_Intel Core i5  \\\n",
       "0       True  128    0  ...              False               True   \n",
       "1      False  128    0  ...              False               True   \n",
       "2      False  256    0  ...              False               True   \n",
       "3       True  512    0  ...              False              False   \n",
       "4       True  256    0  ...              False               True   \n",
       "\n",
       "   CPU_Intel Core i7  CPU_Intel Other  GPU_AMD Radeon  GPU_Intel HD Graphics  \\\n",
       "0              False            False           False                  False   \n",
       "1              False            False           False                   True   \n",
       "2              False            False           False                   True   \n",
       "3               True            False            True                  False   \n",
       "4              False            False           False                  False   \n",
       "\n",
       "   GPU_Intel Iris  GPU_Nvidia GTX  GPU_Nvidia GeForce  GPU_Nvidia Quadro  \n",
       "0            True           False               False              False  \n",
       "1           False           False               False              False  \n",
       "2           False           False               False              False  \n",
       "3           False           False               False              False  \n",
       "4            True           False               False              False  \n",
       "\n",
       "[5 rows x 52 columns]"
      ]
     },
     "execution_count": 46,
     "metadata": {},
     "output_type": "execute_result"
    }
   ],
   "source": [
    "df = pd.get_dummies(df, columns=categorical_columns, drop_first=True, prefix=['Company', 'Type', 'OpSys', 'CPU', 'GPU'])\n",
    "df.head()"
   ]
  },
  {
   "cell_type": "markdown",
   "metadata": {},
   "source": [
    "### Columns"
   ]
  },
  {
   "cell_type": "code",
   "execution_count": 47,
   "metadata": {},
   "outputs": [
    {
     "data": {
      "text/plain": [
       "Index(['Inches', 'Ram', 'Weight', 'Price', 'ResolutionX', 'ResolutionY',\n",
       "       'Touchscreen', 'IPS_Panel', 'SSD', 'HDD', 'Clock_Speed',\n",
       "       'Company_Apple', 'Company_Asus', 'Company_Chuwi', 'Company_Dell',\n",
       "       'Company_Fujitsu', 'Company_Google', 'Company_HP', 'Company_Huawei',\n",
       "       'Company_LG', 'Company_Lenovo', 'Company_MSI', 'Company_Mediacom',\n",
       "       'Company_Microsoft', 'Company_Razer', 'Company_Samsung',\n",
       "       'Company_Toshiba', 'Company_Vero', 'Company_Xiaomi', 'Type_Gaming',\n",
       "       'Type_Netbook', 'Type_Notebook', 'Type_Ultrabook', 'Type_Workstation',\n",
       "       'OpSys_Chrome OS', 'OpSys_Linux', 'OpSys_Mac OS X', 'OpSys_No OS',\n",
       "       'OpSys_Windows 10', 'OpSys_Windows 10 S', 'OpSys_Windows 7',\n",
       "       'OpSys_macOS', 'CPU_Intel Core i3', 'CPU_Intel Core i5',\n",
       "       'CPU_Intel Core i7', 'CPU_Intel Other', 'GPU_AMD Radeon',\n",
       "       'GPU_Intel HD Graphics', 'GPU_Intel Iris', 'GPU_Nvidia GTX',\n",
       "       'GPU_Nvidia GeForce', 'GPU_Nvidia Quadro'],\n",
       "      dtype='object')"
      ]
     },
     "execution_count": 47,
     "metadata": {},
     "output_type": "execute_result"
    }
   ],
   "source": [
    "df.columns"
   ]
  },
  {
   "cell_type": "markdown",
   "metadata": {},
   "source": [
    "### Total Rows & Columns"
   ]
  },
  {
   "cell_type": "code",
   "execution_count": 48,
   "metadata": {},
   "outputs": [
    {
     "name": "stdout",
     "output_type": "stream",
     "text": [
      "Rows: 1273\n",
      "Columns: 52\n"
     ]
    }
   ],
   "source": [
    "print(f\"Rows: {df.shape[0]}\")\n",
    "print(f\"Columns: {df.shape[1]}\")"
   ]
  },
  {
   "cell_type": "markdown",
   "metadata": {},
   "source": [
    "# Correlation"
   ]
  },
  {
   "cell_type": "code",
   "execution_count": 49,
   "metadata": {},
   "outputs": [
    {
     "data": {
      "image/png": "[encoded data removed]",
      "text/plain": [
       "<Figure size 2000x2000 with 1 Axes>"
      ]
     },
     "metadata": {},
     "output_type": "display_data"
    }
   ],
   "source": [
    "corr_matrix = df.corr()\n",
    "\n",
    "plt.figure(figsize=(20,20))\n",
    "sns.barplot(y=corr_matrix.columns, x=corr_matrix.iloc[0])\n",
    "plt.xlabel('Features')\n",
    "plt.ylabel('Correlation')\n",
    "plt.title('Correlation Bar Chart')\n",
    "plt.show()\n"
   ]
  },
  {
   "cell_type": "markdown",
   "metadata": {},
   "source": [
    "## Train & Test Data"
   ]
  },
  {
   "cell_type": "code",
   "execution_count": 50,
   "metadata": {},
   "outputs": [],
   "source": [
    "x = df.drop('Price', axis=1)\n",
    "y = df['Price']"
   ]
  },
  {
   "cell_type": "code",
   "execution_count": 51,
   "metadata": {},
   "outputs": [],
   "source": [
    "xtrain, xtest, ytrain, ytest = tts(x,y, test_size=0.3, random_state=43)"
   ]
  },
  {
   "cell_type": "markdown",
   "metadata": {},
   "source": [
    "# Training Model"
   ]
  },
  {
   "cell_type": "code",
   "execution_count": 52,
   "metadata": {},
   "outputs": [],
   "source": [
    "models = ['Logistic Regression', 'Decision Tree', 'Random Forest', 'KNN', 'Support Vector Machine' ]\n",
    "traing_scores, testing_scores, mae, rmse = [], [], [], []"
   ]
  },
  {
   "cell_type": "code",
   "execution_count": 53,
   "metadata": {},
   "outputs": [],
   "source": [
    "def Evaluate_Model(model):\n",
    "   # Accuracy socre\n",
    "   train_score = model.score(xtrain,ytrain)\n",
    "   test_score = model.score(xtest,ytest)\n",
    "   pred = model.predict(xtest)\n",
    "\n",
    "   # MAE & MSE error\n",
    "   model_mae = mean_absolute_error(ytest, pred)\n",
    "   model_rmse = mean_squared_error(ytest, pred, squared=False)\n",
    "\n",
    "   # Append\n",
    "   traing_scores.append(train_score)\n",
    "   testing_scores.append(test_score)\n",
    "   mae.append(model_mae)\n",
    "   rmse.append(model_rmse)\n",
    "\n",
    "   # Print\n",
    "   print(f'Train Accuracy\\t: {train_score:.5f}')\n",
    "   print(f'Test Accuracy\\t: {test_score:.5f}')\n",
    "   print(f'MAE\\t\\t: {model_mae:.4f}')\n",
    "   print(f'RMSE\\t\\t: {model_rmse:.4f}')"
   ]
  },
  {
   "cell_type": "markdown",
   "metadata": {},
   "source": [
    "# Linear Regression"
   ]
  },
  {
   "cell_type": "code",
   "execution_count": 54,
   "metadata": {},
   "outputs": [
    {
     "name": "stdout",
     "output_type": "stream",
     "text": [
      "Train Accuracy\t: 0.80274\n",
      "Test Accuracy\t: 0.77294\n",
      "MAE\t\t: 255.9156\n",
      "RMSE\t\t: 386.6472\n"
     ]
    }
   ],
   "source": [
    "reg = LinearRegression()\n",
    "reg.fit(xtrain,ytrain)\n",
    "Evaluate_Model(reg)"
   ]
  },
  {
   "cell_type": "markdown",
   "metadata": {},
   "source": [
    "# Decision Tree"
   ]
  },
  {
   "cell_type": "code",
   "execution_count": 55,
   "metadata": {},
   "outputs": [
    {
     "name": "stdout",
     "output_type": "stream",
     "text": [
      "Train Accuracy\t: 0.99757\n",
      "Test Accuracy\t: 0.69179\n",
      "MAE\t\t: 253.3667\n",
      "RMSE\t\t: 450.4714\n"
     ]
    }
   ],
   "source": [
    "dt = DecisionTreeRegressor()\n",
    "dt.fit(xtrain,ytrain)\n",
    "Evaluate_Model(dt)"
   ]
  },
  {
   "cell_type": "markdown",
   "metadata": {},
   "source": [
    "# KNN"
   ]
  },
  {
   "cell_type": "code",
   "execution_count": 56,
   "metadata": {},
   "outputs": [
    {
     "name": "stdout",
     "output_type": "stream",
     "text": [
      "Train Accuracy\t: 0.82115\n",
      "Test Accuracy\t: 0.61535\n",
      "MAE\t\t: 295.5127\n",
      "RMSE\t\t: 503.2454\n"
     ]
    }
   ],
   "source": [
    "knn = KNeighborsRegressor()\n",
    "knn.fit(xtrain,ytrain)\n",
    "Evaluate_Model(knn)"
   ]
  },
  {
   "cell_type": "markdown",
   "metadata": {},
   "source": [
    "# Random Forest"
   ]
  },
  {
   "cell_type": "code",
   "execution_count": 57,
   "metadata": {},
   "outputs": [
    {
     "name": "stdout",
     "output_type": "stream",
     "text": [
      "Train Accuracy\t: 0.97534\n",
      "Test Accuracy\t: 0.75806\n",
      "MAE\t\t: 216.1726\n",
      "RMSE\t\t: 399.1153\n"
     ]
    }
   ],
   "source": [
    "rf = RandomForestRegressor()\n",
    "rf.fit(xtrain,ytrain)\n",
    "Evaluate_Model(rf)"
   ]
  },
  {
   "cell_type": "markdown",
   "metadata": {},
   "source": [
    "# Support Vector Machine"
   ]
  },
  {
   "cell_type": "code",
   "execution_count": 58,
   "metadata": {},
   "outputs": [
    {
     "name": "stdout",
     "output_type": "stream",
     "text": [
      "Train Accuracy\t: 0.70846\n",
      "Test Accuracy\t: 0.66599\n",
      "MAE\t\t: 296.5504\n",
      "RMSE\t\t: 468.9449\n"
     ]
    }
   ],
   "source": [
    "svm = SVR(kernel='linear')\n",
    "svm.fit(xtrain,ytrain)\n",
    "Evaluate_Model(svm)"
   ]
  },
  {
   "cell_type": "markdown",
   "metadata": {},
   "source": [
    "# DataFrame for Visualization"
   ]
  },
  {
   "cell_type": "code",
   "execution_count": 59,
   "metadata": {},
   "outputs": [
    {
     "data": {
      "text/html": [
       "<div>\n",
       "<style scoped>\n",
       "    .dataframe tbody tr th:only-of-type {\n",
       "        vertical-align: middle;\n",
       "    }\n",
       "\n",
       "    .dataframe tbody tr th {\n",
       "        vertical-align: top;\n",
       "    }\n",
       "\n",
       "    .dataframe thead th {\n",
       "        text-align: right;\n",
       "    }\n",
       "</style>\n",
       "<table border=\"1\" class=\"dataframe\">\n",
       "  <thead>\n",
       "    <tr style=\"text-align: right;\">\n",
       "      <th></th>\n",
       "      <th>Model</th>\n",
       "      <th>Training score</th>\n",
       "      <th>Testing score</th>\n",
       "      <th>MAE</th>\n",
       "      <th>RMSE</th>\n",
       "    </tr>\n",
       "  </thead>\n",
       "  <tbody>\n",
       "    <tr>\n",
       "      <th>0</th>\n",
       "      <td>Logistic Regression</td>\n",
       "      <td>0.802739</td>\n",
       "      <td>0.772940</td>\n",
       "      <td>255.915618</td>\n",
       "      <td>386.647200</td>\n",
       "    </tr>\n",
       "    <tr>\n",
       "      <th>1</th>\n",
       "      <td>Decision Tree</td>\n",
       "      <td>0.997572</td>\n",
       "      <td>0.691791</td>\n",
       "      <td>253.366667</td>\n",
       "      <td>450.471408</td>\n",
       "    </tr>\n",
       "    <tr>\n",
       "      <th>2</th>\n",
       "      <td>Random Forest</td>\n",
       "      <td>0.821151</td>\n",
       "      <td>0.615346</td>\n",
       "      <td>295.512717</td>\n",
       "      <td>503.245386</td>\n",
       "    </tr>\n",
       "    <tr>\n",
       "      <th>3</th>\n",
       "      <td>KNN</td>\n",
       "      <td>0.975345</td>\n",
       "      <td>0.758060</td>\n",
       "      <td>216.172620</td>\n",
       "      <td>399.115269</td>\n",
       "    </tr>\n",
       "    <tr>\n",
       "      <th>4</th>\n",
       "      <td>Support Vector Machine</td>\n",
       "      <td>0.708465</td>\n",
       "      <td>0.665994</td>\n",
       "      <td>296.550393</td>\n",
       "      <td>468.944920</td>\n",
       "    </tr>\n",
       "  </tbody>\n",
       "</table>\n",
       "</div>"
      ],
      "text/plain": [
       "                    Model  Training score  Testing score         MAE  \\\n",
       "0     Logistic Regression        0.802739       0.772940  255.915618   \n",
       "1           Decision Tree        0.997572       0.691791  253.366667   \n",
       "2           Random Forest        0.821151       0.615346  295.512717   \n",
       "3                     KNN        0.975345       0.758060  216.172620   \n",
       "4  Support Vector Machine        0.708465       0.665994  296.550393   \n",
       "\n",
       "         RMSE  \n",
       "0  386.647200  \n",
       "1  450.471408  \n",
       "2  503.245386  \n",
       "3  399.115269  \n",
       "4  468.944920  "
      ]
     },
     "execution_count": 59,
     "metadata": {},
     "output_type": "execute_result"
    }
   ],
   "source": [
    "df_metrics = pd.DataFrame({'Model': models,'Training score':traing_scores,'Testing score':testing_scores,'MAE': mae, 'RMSE': rmse})\n",
    "df_metrics"
   ]
  },
  {
   "cell_type": "code",
   "execution_count": 60,
   "metadata": {},
   "outputs": [
    {
     "data": {
      "text/html": [
       "<div>\n",
       "<style scoped>\n",
       "    .dataframe tbody tr th:only-of-type {\n",
       "        vertical-align: middle;\n",
       "    }\n",
       "\n",
       "    .dataframe tbody tr th {\n",
       "        vertical-align: top;\n",
       "    }\n",
       "\n",
       "    .dataframe thead th {\n",
       "        text-align: right;\n",
       "    }\n",
       "</style>\n",
       "<table border=\"1\" class=\"dataframe\">\n",
       "  <thead>\n",
       "    <tr style=\"text-align: right;\">\n",
       "      <th></th>\n",
       "      <th>Model</th>\n",
       "      <th>Type</th>\n",
       "      <th>Accuracy</th>\n",
       "    </tr>\n",
       "  </thead>\n",
       "  <tbody>\n",
       "    <tr>\n",
       "      <th>0</th>\n",
       "      <td>Logistic Regression</td>\n",
       "      <td>Training score</td>\n",
       "      <td>0.802739</td>\n",
       "    </tr>\n",
       "    <tr>\n",
       "      <th>1</th>\n",
       "      <td>Decision Tree</td>\n",
       "      <td>Training score</td>\n",
       "      <td>0.997572</td>\n",
       "    </tr>\n",
       "    <tr>\n",
       "      <th>2</th>\n",
       "      <td>Random Forest</td>\n",
       "      <td>Training score</td>\n",
       "      <td>0.821151</td>\n",
       "    </tr>\n",
       "    <tr>\n",
       "      <th>3</th>\n",
       "      <td>KNN</td>\n",
       "      <td>Training score</td>\n",
       "      <td>0.975345</td>\n",
       "    </tr>\n",
       "    <tr>\n",
       "      <th>4</th>\n",
       "      <td>Support Vector Machine</td>\n",
       "      <td>Training score</td>\n",
       "      <td>0.708465</td>\n",
       "    </tr>\n",
       "    <tr>\n",
       "      <th>5</th>\n",
       "      <td>Logistic Regression</td>\n",
       "      <td>Testing score</td>\n",
       "      <td>0.772940</td>\n",
       "    </tr>\n",
       "    <tr>\n",
       "      <th>6</th>\n",
       "      <td>Decision Tree</td>\n",
       "      <td>Testing score</td>\n",
       "      <td>0.691791</td>\n",
       "    </tr>\n",
       "    <tr>\n",
       "      <th>7</th>\n",
       "      <td>Random Forest</td>\n",
       "      <td>Testing score</td>\n",
       "      <td>0.615346</td>\n",
       "    </tr>\n",
       "    <tr>\n",
       "      <th>8</th>\n",
       "      <td>KNN</td>\n",
       "      <td>Testing score</td>\n",
       "      <td>0.758060</td>\n",
       "    </tr>\n",
       "    <tr>\n",
       "      <th>9</th>\n",
       "      <td>Support Vector Machine</td>\n",
       "      <td>Testing score</td>\n",
       "      <td>0.665994</td>\n",
       "    </tr>\n",
       "  </tbody>\n",
       "</table>\n",
       "</div>"
      ],
      "text/plain": [
       "                    Model            Type  Accuracy\n",
       "0     Logistic Regression  Training score  0.802739\n",
       "1           Decision Tree  Training score  0.997572\n",
       "2           Random Forest  Training score  0.821151\n",
       "3                     KNN  Training score  0.975345\n",
       "4  Support Vector Machine  Training score  0.708465\n",
       "5     Logistic Regression   Testing score  0.772940\n",
       "6           Decision Tree   Testing score  0.691791\n",
       "7           Random Forest   Testing score  0.615346\n",
       "8                     KNN   Testing score  0.758060\n",
       "9  Support Vector Machine   Testing score  0.665994"
      ]
     },
     "execution_count": 60,
     "metadata": {},
     "output_type": "execute_result"
    }
   ],
   "source": [
    "df_score = pd.melt(df_metrics, id_vars=['Model'], value_vars=['Training score','Testing score'], var_name='Type', value_name='Accuracy')\n",
    "df_score"
   ]
  },
  {
   "cell_type": "code",
   "execution_count": 61,
   "metadata": {},
   "outputs": [
    {
     "data": {
      "text/html": [
       "<div>\n",
       "<style scoped>\n",
       "    .dataframe tbody tr th:only-of-type {\n",
       "        vertical-align: middle;\n",
       "    }\n",
       "\n",
       "    .dataframe tbody tr th {\n",
       "        vertical-align: top;\n",
       "    }\n",
       "\n",
       "    .dataframe thead th {\n",
       "        text-align: right;\n",
       "    }\n",
       "</style>\n",
       "<table border=\"1\" class=\"dataframe\">\n",
       "  <thead>\n",
       "    <tr style=\"text-align: right;\">\n",
       "      <th></th>\n",
       "      <th>Model</th>\n",
       "      <th>Type</th>\n",
       "      <th>Error</th>\n",
       "    </tr>\n",
       "  </thead>\n",
       "  <tbody>\n",
       "    <tr>\n",
       "      <th>0</th>\n",
       "      <td>Logistic Regression</td>\n",
       "      <td>MAE</td>\n",
       "      <td>255.915618</td>\n",
       "    </tr>\n",
       "    <tr>\n",
       "      <th>1</th>\n",
       "      <td>Decision Tree</td>\n",
       "      <td>MAE</td>\n",
       "      <td>253.366667</td>\n",
       "    </tr>\n",
       "    <tr>\n",
       "      <th>2</th>\n",
       "      <td>Random Forest</td>\n",
       "      <td>MAE</td>\n",
       "      <td>295.512717</td>\n",
       "    </tr>\n",
       "    <tr>\n",
       "      <th>3</th>\n",
       "      <td>KNN</td>\n",
       "      <td>MAE</td>\n",
       "      <td>216.172620</td>\n",
       "    </tr>\n",
       "    <tr>\n",
       "      <th>4</th>\n",
       "      <td>Support Vector Machine</td>\n",
       "      <td>MAE</td>\n",
       "      <td>296.550393</td>\n",
       "    </tr>\n",
       "    <tr>\n",
       "      <th>5</th>\n",
       "      <td>Logistic Regression</td>\n",
       "      <td>RMSE</td>\n",
       "      <td>386.647200</td>\n",
       "    </tr>\n",
       "    <tr>\n",
       "      <th>6</th>\n",
       "      <td>Decision Tree</td>\n",
       "      <td>RMSE</td>\n",
       "      <td>450.471408</td>\n",
       "    </tr>\n",
       "    <tr>\n",
       "      <th>7</th>\n",
       "      <td>Random Forest</td>\n",
       "      <td>RMSE</td>\n",
       "      <td>503.245386</td>\n",
       "    </tr>\n",
       "    <tr>\n",
       "      <th>8</th>\n",
       "      <td>KNN</td>\n",
       "      <td>RMSE</td>\n",
       "      <td>399.115269</td>\n",
       "    </tr>\n",
       "    <tr>\n",
       "      <th>9</th>\n",
       "      <td>Support Vector Machine</td>\n",
       "      <td>RMSE</td>\n",
       "      <td>468.944920</td>\n",
       "    </tr>\n",
       "  </tbody>\n",
       "</table>\n",
       "</div>"
      ],
      "text/plain": [
       "                    Model  Type       Error\n",
       "0     Logistic Regression   MAE  255.915618\n",
       "1           Decision Tree   MAE  253.366667\n",
       "2           Random Forest   MAE  295.512717\n",
       "3                     KNN   MAE  216.172620\n",
       "4  Support Vector Machine   MAE  296.550393\n",
       "5     Logistic Regression  RMSE  386.647200\n",
       "6           Decision Tree  RMSE  450.471408\n",
       "7           Random Forest  RMSE  503.245386\n",
       "8                     KNN  RMSE  399.115269\n",
       "9  Support Vector Machine  RMSE  468.944920"
      ]
     },
     "execution_count": 61,
     "metadata": {},
     "output_type": "execute_result"
    }
   ],
   "source": [
    "df_error = pd.melt(df_metrics, id_vars=['Model'], value_vars=['MAE','RMSE'], var_name='Type', value_name='Error')\n",
    "df_error"
   ]
  },
  {
   "cell_type": "markdown",
   "metadata": {},
   "source": [
    "# Accuracy Score"
   ]
  },
  {
   "cell_type": "code",
   "execution_count": 62,
   "metadata": {},
   "outputs": [
    {
     "data": {
      "text/plain": [
       "<Axes: xlabel='Model', ylabel='Accuracy'>"
      ]
     },
     "execution_count": 62,
     "metadata": {},
     "output_type": "execute_result"
    },
    {
     "data": {
      "image/png": "[encoded data removed]",
      "text/plain": [
       "<Figure size 2000x600 with 1 Axes>"
      ]
     },
     "metadata": {},
     "output_type": "display_data"
    }
   ],
   "source": [
    "plt.figure(figsize=(20,6))\n",
    "sns.barplot(data=df_score, x='Model', y='Accuracy', hue='Type', width=0.5, palette=['#f9a8d4', '#f472b6'])"
   ]
  },
  {
   "cell_type": "markdown",
   "metadata": {},
   "source": [
    "# MAE & MSE Error"
   ]
  },
  {
   "cell_type": "code",
   "execution_count": 63,
   "metadata": {},
   "outputs": [
    {
     "data": {
      "text/plain": [
       "<Axes: xlabel='Model', ylabel='Error'>"
      ]
     },
     "execution_count": 63,
     "metadata": {},
     "output_type": "execute_result"
    },
    {
     "data": {
      "image/png": "[encoded data removed]",
      "text/plain": [
       "<Figure size 2000x600 with 1 Axes>"
      ]
     },
     "metadata": {},
     "output_type": "display_data"
    }
   ],
   "source": [
    "plt.figure(figsize=(20,6))\n",
    "sns.barplot(data=df_error, x='Model', y='Error', hue='Type', width=0.5, palette=['#f9a8d4', '#f472b6'])"
   ]
  },
  {
   "cell_type": "markdown",
   "metadata": {},
   "source": [
    "# Cross Validation"
   ]
  },
  {
   "cell_type": "code",
   "execution_count": 64,
   "metadata": {},
   "outputs": [
    {
     "data": {
      "text/plain": [
       "array([0.83929681, 0.8288999 , 0.81475219, 0.79491512, 0.75072636])"
      ]
     },
     "execution_count": 64,
     "metadata": {},
     "output_type": "execute_result"
    }
   ],
   "source": [
    "cv_scores = cross_validate(rf, x, y, cv=KFold(), scoring='r2')['test_score']\n",
    "cv_scores"
   ]
  },
  {
   "cell_type": "code",
   "execution_count": 65,
   "metadata": {},
   "outputs": [
    {
     "name": "stdout",
     "output_type": "stream",
     "text": [
      "Min score: 0.7507263636043966\n",
      "Max score: 0.8392968073740098\n",
      "Mean score: 0.8057180754445273\n"
     ]
    }
   ],
   "source": [
    "print(f\"Min score: {cv_scores.min()}\")\n",
    "print(f\"Max score: {cv_scores.max()}\")\n",
    "print(f\"Mean score: {cv_scores.mean()}\")"
   ]
  }
 ],
 "metadata": {
  "kernelspec": {
   "display_name": "ml",
   "language": "python",
   "name": "python3"
  },
  "language_info": {
   "codemirror_mode": {
    "name": "ipython",
    "version": 3
   },
   "file_extension": ".py",
   "mimetype": "text/x-python",
   "name": "python",
   "nbconvert_exporter": "python",
   "pygments_lexer": "ipython3",
   "version": "3.10.11"
  },
  "orig_nbformat": 4
 },
 "nbformat": 4,
 "nbformat_minor": 2
}
